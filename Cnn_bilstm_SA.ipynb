{
  "nbformat": 4,
  "nbformat_minor": 0,
  "metadata": {
    "colab": {
      "provenance": [],
      "gpuType": "T4",
      "include_colab_link": true
    },
    "kernelspec": {
      "name": "python3",
      "display_name": "Python 3"
    },
    "language_info": {
      "name": "python"
    },
    "accelerator": "GPU",
    "gpuClass": "standard"
  },
  "cells": [
    {
      "cell_type": "markdown",
      "metadata": {
        "id": "view-in-github",
        "colab_type": "text"
      },
      "source": [
        "<a href=\"https://colab.research.google.com/github/Skander28/Models/blob/main/Cnn_bilstm_SA.ipynb\" target=\"_parent\"><img src=\"https://colab.research.google.com/assets/colab-badge.svg\" alt=\"Open In Colab\"/></a>"
      ]
    },
    {
      "cell_type": "code",
      "execution_count": 1,
      "metadata": {
        "id": "SaQmAYWs1wAv"
      },
      "outputs": [],
      "source": [
        "import torch\n",
        "import torch.nn as nn\n",
        "import torch.optim as optim\n",
        "from torch.utils.data import Dataset, DataLoader\n",
        "from sklearn.model_selection import train_test_split\n",
        "from keras.preprocessing.text import Tokenizer\n",
        "from keras.utils import pad_sequences\n"
      ]
    },
    {
      "cell_type": "code",
      "source": [
        "from google.colab import drive\n",
        "drive.mount('/content/drive')"
      ],
      "metadata": {
        "colab": {
          "base_uri": "https://localhost:8080/"
        },
        "id": "k7wOY4ro7va_",
        "outputId": "e54600c4-712a-4388-9131-fcd6f9ffeb38"
      },
      "execution_count": 2,
      "outputs": [
        {
          "output_type": "stream",
          "name": "stdout",
          "text": [
            "Mounted at /content/drive\n"
          ]
        }
      ]
    },
    {
      "cell_type": "code",
      "source": [
        "!ls /content/drive/MyDrive/"
      ],
      "metadata": {
        "colab": {
          "base_uri": "https://localhost:8080/"
        },
        "id": "ZyEdq6kX7yDx",
        "outputId": "f1a51a81-f075-43b0-b935-35572854b854"
      },
      "execution_count": 3,
      "outputs": [
        {
          "output_type": "stream",
          "name": "stdout",
          "text": [
            "'carte visite badra.gdoc'\n",
            " Classroom\n",
            "'Colab Notebooks'\n",
            " django\n",
            " entreprise-1-20220417T102515Z-001.zip\n",
            "'Espace citoyen.pdf'\n",
            " ez-learning\n",
            " maghrebi\n",
            "'model (1).pth'\n",
            " preprocessed_tweets.csv\n",
            " pre_tweets.csv\n",
            " Projet_Java_FediBoussaada_LaribiSkander_2A\n",
            " Projet_Microservices\n",
            " trainer2.pth\n",
            "'Untitled presentation.gslides'\n"
          ]
        }
      ]
    },
    {
      "cell_type": "code",
      "source": [
        "import pandas as pd\n",
        "filtered_df = pd.read_csv('/content/drive/MyDrive/pre_tweets.csv')\n",
        "filtered_df.head()"
      ],
      "metadata": {
        "colab": {
          "base_uri": "https://localhost:8080/",
          "height": 206
        },
        "id": "uU0Oz6bT70Hn",
        "outputId": "0b1ad825-0ff2-496e-ea52-095fc9228394"
      },
      "execution_count": 19,
      "outputs": [
        {
          "output_type": "execute_result",
          "data": {
            "text/plain": [
              "   Unnamed: 0                   id  \\\n",
              "0           0  1009754958479151232   \n",
              "1           1  1009794751548313600   \n",
              "2           2  1019989115490787200   \n",
              "3           3  1035479791758135168   \n",
              "4           4  1035481122921164800   \n",
              "\n",
              "                                              tweets  dialect  \n",
              "0  قليلين ادب ومنافقين اختهم او قريبتهم تعاكس تقو...        1  \n",
              "1  اليبين متقلبين بالنسبه ليا انا ميليشياوي زمان ...        1  \n",
              "2  تانيه شاب ليبي بيرتاح لبنت مختلفه ويلاحظ انها ...        1  \n",
              "3  رانيا عقليتك متخلفه اولا الانسان يلي يحتاج اهل...        1  \n",
              "4  شكلك متعقده علشان الراجل تحبيه ازوج بنت يتيمه ...        1  "
            ],
            "text/html": [
              "\n",
              "  <div id=\"df-7b3a4102-d049-4dde-a2f1-cbe55a2eae3a\">\n",
              "    <div class=\"colab-df-container\">\n",
              "      <div>\n",
              "<style scoped>\n",
              "    .dataframe tbody tr th:only-of-type {\n",
              "        vertical-align: middle;\n",
              "    }\n",
              "\n",
              "    .dataframe tbody tr th {\n",
              "        vertical-align: top;\n",
              "    }\n",
              "\n",
              "    .dataframe thead th {\n",
              "        text-align: right;\n",
              "    }\n",
              "</style>\n",
              "<table border=\"1\" class=\"dataframe\">\n",
              "  <thead>\n",
              "    <tr style=\"text-align: right;\">\n",
              "      <th></th>\n",
              "      <th>Unnamed: 0</th>\n",
              "      <th>id</th>\n",
              "      <th>tweets</th>\n",
              "      <th>dialect</th>\n",
              "    </tr>\n",
              "  </thead>\n",
              "  <tbody>\n",
              "    <tr>\n",
              "      <th>0</th>\n",
              "      <td>0</td>\n",
              "      <td>1009754958479151232</td>\n",
              "      <td>قليلين ادب ومنافقين اختهم او قريبتهم تعاكس تقو...</td>\n",
              "      <td>1</td>\n",
              "    </tr>\n",
              "    <tr>\n",
              "      <th>1</th>\n",
              "      <td>1</td>\n",
              "      <td>1009794751548313600</td>\n",
              "      <td>اليبين متقلبين بالنسبه ليا انا ميليشياوي زمان ...</td>\n",
              "      <td>1</td>\n",
              "    </tr>\n",
              "    <tr>\n",
              "      <th>2</th>\n",
              "      <td>2</td>\n",
              "      <td>1019989115490787200</td>\n",
              "      <td>تانيه شاب ليبي بيرتاح لبنت مختلفه ويلاحظ انها ...</td>\n",
              "      <td>1</td>\n",
              "    </tr>\n",
              "    <tr>\n",
              "      <th>3</th>\n",
              "      <td>3</td>\n",
              "      <td>1035479791758135168</td>\n",
              "      <td>رانيا عقليتك متخلفه اولا الانسان يلي يحتاج اهل...</td>\n",
              "      <td>1</td>\n",
              "    </tr>\n",
              "    <tr>\n",
              "      <th>4</th>\n",
              "      <td>4</td>\n",
              "      <td>1035481122921164800</td>\n",
              "      <td>شكلك متعقده علشان الراجل تحبيه ازوج بنت يتيمه ...</td>\n",
              "      <td>1</td>\n",
              "    </tr>\n",
              "  </tbody>\n",
              "</table>\n",
              "</div>\n",
              "      <button class=\"colab-df-convert\" onclick=\"convertToInteractive('df-7b3a4102-d049-4dde-a2f1-cbe55a2eae3a')\"\n",
              "              title=\"Convert this dataframe to an interactive table.\"\n",
              "              style=\"display:none;\">\n",
              "        \n",
              "  <svg xmlns=\"http://www.w3.org/2000/svg\" height=\"24px\"viewBox=\"0 0 24 24\"\n",
              "       width=\"24px\">\n",
              "    <path d=\"M0 0h24v24H0V0z\" fill=\"none\"/>\n",
              "    <path d=\"M18.56 5.44l.94 2.06.94-2.06 2.06-.94-2.06-.94-.94-2.06-.94 2.06-2.06.94zm-11 1L8.5 8.5l.94-2.06 2.06-.94-2.06-.94L8.5 2.5l-.94 2.06-2.06.94zm10 10l.94 2.06.94-2.06 2.06-.94-2.06-.94-.94-2.06-.94 2.06-2.06.94z\"/><path d=\"M17.41 7.96l-1.37-1.37c-.4-.4-.92-.59-1.43-.59-.52 0-1.04.2-1.43.59L10.3 9.45l-7.72 7.72c-.78.78-.78 2.05 0 2.83L4 21.41c.39.39.9.59 1.41.59.51 0 1.02-.2 1.41-.59l7.78-7.78 2.81-2.81c.8-.78.8-2.07 0-2.86zM5.41 20L4 18.59l7.72-7.72 1.47 1.35L5.41 20z\"/>\n",
              "  </svg>\n",
              "      </button>\n",
              "      \n",
              "  <style>\n",
              "    .colab-df-container {\n",
              "      display:flex;\n",
              "      flex-wrap:wrap;\n",
              "      gap: 12px;\n",
              "    }\n",
              "\n",
              "    .colab-df-convert {\n",
              "      background-color: #E8F0FE;\n",
              "      border: none;\n",
              "      border-radius: 50%;\n",
              "      cursor: pointer;\n",
              "      display: none;\n",
              "      fill: #1967D2;\n",
              "      height: 32px;\n",
              "      padding: 0 0 0 0;\n",
              "      width: 32px;\n",
              "    }\n",
              "\n",
              "    .colab-df-convert:hover {\n",
              "      background-color: #E2EBFA;\n",
              "      box-shadow: 0px 1px 2px rgba(60, 64, 67, 0.3), 0px 1px 3px 1px rgba(60, 64, 67, 0.15);\n",
              "      fill: #174EA6;\n",
              "    }\n",
              "\n",
              "    [theme=dark] .colab-df-convert {\n",
              "      background-color: #3B4455;\n",
              "      fill: #D2E3FC;\n",
              "    }\n",
              "\n",
              "    [theme=dark] .colab-df-convert:hover {\n",
              "      background-color: #434B5C;\n",
              "      box-shadow: 0px 1px 3px 1px rgba(0, 0, 0, 0.15);\n",
              "      filter: drop-shadow(0px 1px 2px rgba(0, 0, 0, 0.3));\n",
              "      fill: #FFFFFF;\n",
              "    }\n",
              "  </style>\n",
              "\n",
              "      <script>\n",
              "        const buttonEl =\n",
              "          document.querySelector('#df-7b3a4102-d049-4dde-a2f1-cbe55a2eae3a button.colab-df-convert');\n",
              "        buttonEl.style.display =\n",
              "          google.colab.kernel.accessAllowed ? 'block' : 'none';\n",
              "\n",
              "        async function convertToInteractive(key) {\n",
              "          const element = document.querySelector('#df-7b3a4102-d049-4dde-a2f1-cbe55a2eae3a');\n",
              "          const dataTable =\n",
              "            await google.colab.kernel.invokeFunction('convertToInteractive',\n",
              "                                                     [key], {});\n",
              "          if (!dataTable) return;\n",
              "\n",
              "          const docLinkHtml = 'Like what you see? Visit the ' +\n",
              "            '<a target=\"_blank\" href=https://colab.research.google.com/notebooks/data_table.ipynb>data table notebook</a>'\n",
              "            + ' to learn more about interactive tables.';\n",
              "          element.innerHTML = '';\n",
              "          dataTable['output_type'] = 'display_data';\n",
              "          await google.colab.output.renderOutput(dataTable, element);\n",
              "          const docLink = document.createElement('div');\n",
              "          docLink.innerHTML = docLinkHtml;\n",
              "          element.appendChild(docLink);\n",
              "        }\n",
              "      </script>\n",
              "    </div>\n",
              "  </div>\n",
              "  "
            ]
          },
          "metadata": {},
          "execution_count": 19
        }
      ]
    },
    {
      "cell_type": "code",
      "source": [
        "filtered_df = filtered_df.dropna()"
      ],
      "metadata": {
        "id": "z-COZLxE9bch"
      },
      "execution_count": 20,
      "outputs": []
    },
    {
      "cell_type": "code",
      "source": [
        "filtered_df['dialect'].value_counts()"
      ],
      "metadata": {
        "id": "K3ymBWuy8Q7k",
        "outputId": "77a309ff-f770-4dcf-b062-febcab9bfaba",
        "colab": {
          "base_uri": "https://localhost:8080/"
        }
      },
      "execution_count": 45,
      "outputs": [
        {
          "output_type": "execute_result",
          "data": {
            "text/plain": [
              "2    36494\n",
              "3    36483\n",
              "0    36483\n",
              "1    36478\n",
              "Name: dialect, dtype: int64"
            ]
          },
          "metadata": {},
          "execution_count": 45
        }
      ]
    },
    {
      "cell_type": "code",
      "source": [
        "# Load data\n",
        "features = filtered_df.tweets.values\n",
        "labels = pd.get_dummies(filtered_df['dialect']).values"
      ],
      "metadata": {
        "id": "oHjhhJe02RHq"
      },
      "execution_count": 46,
      "outputs": []
    },
    {
      "cell_type": "code",
      "source": [
        "vocab_size = 20000\n",
        "max_length= 200\n",
        "tokenizer = Tokenizer(num_words=vocab_size,filters='!\"#$%&()*+,-./:;<=>?@[\\]^_`{|}~', lower=False)\n",
        "tokenizer.fit_on_texts(features)\n",
        "X = tokenizer.texts_to_sequences(features)"
      ],
      "metadata": {
        "id": "cjTuEsm22TBh"
      },
      "execution_count": 47,
      "outputs": []
    },
    {
      "cell_type": "code",
      "source": [
        "import nltk\n",
        "from collections import Counter\n",
        "nltk.download('stopwords')\n",
        "from nltk.corpus import stopwords\n",
        "\n",
        "# use the stopwords\n",
        "stop_words = set(stopwords.words('arabic'))"
      ],
      "metadata": {
        "colab": {
          "base_uri": "https://localhost:8080/"
        },
        "id": "_n7cvg2R-m3y",
        "outputId": "46d03e18-8df2-4e37-c200-8ad13329dc03"
      },
      "execution_count": 48,
      "outputs": [
        {
          "output_type": "stream",
          "name": "stderr",
          "text": [
            "[nltk_data] Downloading package stopwords to /root/nltk_data...\n",
            "[nltk_data]   Package stopwords is already up-to-date!\n"
          ]
        }
      ]
    },
    {
      "cell_type": "code",
      "source": [
        "all_words = []\n",
        "for tokens in X:\n",
        "    all_words.extend(tokens)\n",
        "\n",
        "stop_words = set(stopwords.words('arabic'))\n",
        "all_words = [word for word in all_words if word not in stop_words]\n",
        "\n",
        "word_counts = Counter(all_words)\n",
        "most_common_words = [word for word, count in word_counts.most_common(500)]\n",
        "\n",
        "def remove_common_words(tokens):\n",
        "  new_tokens = [token for token in tokens if token not in most_common_words]\n",
        "  return new_tokens\n",
        "\n",
        "X = remove_common_words(X)\n",
        "\n",
        "\n",
        "X = pad_sequences(X, maxlen=max_length)"
      ],
      "metadata": {
        "id": "STO_xtVt3O9e"
      },
      "execution_count": 49,
      "outputs": []
    },
    {
      "cell_type": "code",
      "source": [
        "# Split data into training, validation, and test sets\n",
        "X_train, X_test, y_train, y_test = train_test_split(X, labels, test_size=0.1, random_state=42, shuffle=True)\n",
        "X_train, X_val, y_train, y_val = train_test_split(X_train, y_train, test_size=0.1, random_state=42, shuffle=True)"
      ],
      "metadata": {
        "id": "__QvQKel3PWk"
      },
      "execution_count": 50,
      "outputs": []
    },
    {
      "cell_type": "code",
      "source": [
        "X_train.shape, X_test.shape, X_val.shape, y_train.shape, y_test.shape , y_val.shape"
      ],
      "metadata": {
        "id": "1_njbmkI71A6",
        "outputId": "83ef9376-49fe-4777-ff9b-20594b768932",
        "colab": {
          "base_uri": "https://localhost:8080/"
        }
      },
      "execution_count": 51,
      "outputs": [
        {
          "output_type": "execute_result",
          "data": {
            "text/plain": [
              "((118209, 200),\n",
              " (14594, 200),\n",
              " (13135, 200),\n",
              " (118209, 4),\n",
              " (14594, 4),\n",
              " (13135, 4))"
            ]
          },
          "metadata": {},
          "execution_count": 51
        }
      ]
    },
    {
      "cell_type": "code",
      "source": [
        "# Convert data to PyTorch tensors\n",
        "X_train, y_train = torch.tensor(X_train), torch.tensor(y_train)\n",
        "X_val, y_val = torch.tensor(X_val), torch.tensor(y_val)\n",
        "X_test, y_test = torch.tensor(X_test), torch.tensor(y_test)"
      ],
      "metadata": {
        "id": "Uwjl3zya3U76"
      },
      "execution_count": 26,
      "outputs": []
    },
    {
      "cell_type": "code",
      "source": [
        "class DialectDataset(Dataset):\n",
        "    def __init__(self, X, y):\n",
        "        self.X = X\n",
        "        self.y = y\n",
        "        \n",
        "    def __len__(self):\n",
        "        return len(self.X)\n",
        "    \n",
        "    def __getitem__(self, idx):\n",
        "        return self.X[idx], self.y[idx]"
      ],
      "metadata": {
        "id": "9vqusbmC3dF8"
      },
      "execution_count": 27,
      "outputs": []
    },
    {
      "cell_type": "code",
      "source": [
        "# Create dataloaders for training, validation, and test sets\n",
        "train_dataset = DialectDataset(X_train, y_train)\n",
        "val_dataset = DialectDataset(X_val, y_val)\n",
        "test_dataset = DialectDataset(X_test, y_test)"
      ],
      "metadata": {
        "id": "d_Z3U-h_3gdc"
      },
      "execution_count": 28,
      "outputs": []
    },
    {
      "cell_type": "code",
      "source": [
        "batch_size = 64\n",
        "train_dataloader = DataLoader(train_dataset, batch_size=batch_size, shuffle=True)\n",
        "val_dataloader = DataLoader(val_dataset, batch_size=batch_size)\n",
        "test_dataloader = DataLoader(test_dataset, batch_size=batch_size)\n"
      ],
      "metadata": {
        "id": "Zp_pdmFd3mvi"
      },
      "execution_count": 29,
      "outputs": []
    },
    {
      "cell_type": "code",
      "source": [
        "# import torch\n",
        "# import torch.nn as nn\n",
        "# import torch.nn.functional as F\n",
        "# import torch.optim as optim\n",
        "# from torch.utils.data import DataLoader, Dataset\n",
        "# from sklearn.metrics import accuracy_score\n",
        "# from tqdm import tqdm\n",
        "# import numpy as np\n",
        "\n",
        "# vocab_size = 20000\n",
        "# embedding_dim = 100\n",
        "# hidden_dim = 128\n",
        "# output_dim = 4\n",
        "# num_layers = 2\n",
        "# bidirectional = True\n",
        "# lr = 0.01\n",
        "# batch_size = 64\n",
        "# num_epochs = 100\n",
        "# patience = 5\n",
        "\n",
        "# class BiLSTMAttention(nn.Module):\n",
        "#     def __init__(self, vocab_size, embedding_dim, hidden_dim, output_dim, num_layers):\n",
        "#         super(BiLSTMAttention, self).__init__()\n",
        "#         self.embedding = nn.Embedding(vocab_size, embedding_dim)\n",
        "#         self.conv1 = nn.Conv2d(in_channels=1, out_channels=16, kernel_size=(3, 3),stride =(2,2), padding=(1, 0))\n",
        "#         self.conv2 = nn.Conv2d(in_channels=16, out_channels=32, kernel_size=(3, 3),stride =(2,2), padding=(1, 0))\n",
        "#         self.lstm = nn.LSTM(1600, hidden_dim, num_layers=num_layers, bidirectional=True, dropout=0.5, batch_first=True)\n",
        "#         self.fc = nn.Linear(hidden_dim * 2, output_dim)\n",
        "#         self.dropout = nn.Dropout(0.5)\n",
        "#         self.attention = SelfAttention(hidden_dim * 2)\n",
        "\n",
        "#     def forward(self, x):\n",
        "#         embedded = self.embedding(x)\n",
        "#         conv1_out = F.relu(self.conv1(embedded.unsqueeze(1)))\n",
        "#         conv2_out = F.relu(self.conv2(conv1_out))\n",
        "#         conv2_out = conv2_out.permute(0, 2, 1, 3)\n",
        "#         conv2_out = conv2_out.reshape(conv2_out.size(0), conv2_out.size(1), -1)\n",
        "#         lstm_in = conv2_out.permute(0, 2, 1)\n",
        "#         lstm_out, _ = self.lstm(lstm_in)\n",
        "#         lstm_out = self.dropout(lstm_out)\n",
        "#         attention_out , attention_weights= self.attention(lstm_out)\n",
        "#         fc_out = self.fc(attention_out)\n",
        "#         return fc_out, attention_weights\n",
        "\n",
        "# class SelfAttention(nn.Module):\n",
        "#     def __init__(self, hidden_dim):\n",
        "#         super(SelfAttention, self).__init__()\n",
        "#         self.projection = nn.Sequential(\n",
        "#             nn.Linear(hidden_dim, hidden_dim),\n",
        "#             nn.Tanh(),\n",
        "#             nn.Linear(hidden_dim, 1)\n",
        "#         )\n",
        "        \n",
        "#     def forward(self, encoder_outputs):\n",
        "#         energy = self.projection(encoder_outputs)\n",
        "#         weights = F.softmax(energy.flatten(start_dim=1), dim=1)\n",
        "#         outputs = (encoder_outputs * weights.unsqueeze(-1)).sum(dim=1)\n",
        "#         return outputs, weights"
      ],
      "metadata": {
        "id": "VEIxcRNd3rfX"
      },
      "execution_count": 58,
      "outputs": []
    },
    {
      "cell_type": "code",
      "source": [
        "import torch\n",
        "import torch.nn as nn\n",
        "import torch.nn.functional as F\n",
        "import torch.optim as optim\n",
        "from torch.utils.data import DataLoader, Dataset\n",
        "from sklearn.metrics import accuracy_score\n",
        "from tqdm import tqdm\n",
        "import numpy as np\n",
        "\n",
        "input_dim = 200\n",
        "vocab_size = 20000\n",
        "embedding_dim = 100\n",
        "hidden_dim = 128\n",
        "output_dim = 4\n",
        "num_layers = 2\n",
        "bidirectional = True\n",
        "lr = 0.01\n",
        "batch_size = 64\n",
        "num_epochs = 100\n",
        "patience = 5\n",
        "\n",
        "class ConvLSTMWithSelfAttention(nn.Module):\n",
        "    def __init__(self, input_dim, hidden_dim, output_dim, num_layers, bidirectional=True):\n",
        "        super(ConvLSTMWithSelfAttention, self).__init__()\n",
        "        self.input_dim = input_dim\n",
        "        self.hidden_dim = hidden_dim\n",
        "        self.output_dim = output_dim\n",
        "        self.num_layers = num_layers\n",
        "        self.bidirectional = bidirectional\n",
        "        \n",
        "        self.conv1 = nn.Conv2d(1, 32, kernel_size=(3,3), stride=(2,2))\n",
        "        self.conv2 = nn.Conv2d(32, 64, kernel_size=(3,3), stride=(2,2))\n",
        "        \n",
        "        self.lstm = nn.LSTM(input_dim, hidden_dim, num_layers=num_layers, batch_first=True, bidirectional=bidirectional)\n",
        "        \n",
        "        self.self_attention = nn.Sequential(\n",
        "            nn.Linear(hidden_dim*2, hidden_dim*2),\n",
        "            nn.Tanh(),\n",
        "            nn.Linear(hidden_dim*2, 1),\n",
        "            nn.Softmax(dim=1)\n",
        "        )\n",
        "        \n",
        "        self.fc = nn.Linear(hidden_dim*2, output_dim)\n",
        "        \n",
        "    def forward(self, x):\n",
        "        # Convolutional layers\n",
        "        x = x.unsqueeze(1) # Add channel dimension\n",
        "        x = F.relu(self.conv1(x))\n",
        "        x = F.relu(self.conv2(x))\n",
        "        x = x.view(x.size(0), x.size(1), -1)\n",
        "        \n",
        "        # LSTM layers\n",
        "        h0 = torch.zeros(self.num_layers * self.hidden_dim * 2 if self.bidirectional else self.num_layers * self.hidden_dim, x.size(0), self.hidden_dim)\n",
        "        c0 = torch.zeros(self.num_layers * self.hidden_dim * 2 if self.bidirectional else self.num_layers * self.hidden_dim, x.size(0), self.hidden_dim)\n",
        "        lstm_out, _ = self.lstm(x, (h0, c0))\n",
        "        \n",
        "        # Self-attention\n",
        "        attention_weights = self.self_attention(lstm_out)\n",
        "        attention_weights = attention_weights.permute(0, 2, 1)\n",
        "        weighted_out = torch.bmm(attention_weights, lstm_out)\n",
        "        out = torch.sum(weighted_out, dim=1)\n",
        "        \n",
        "        # Fully-connected layer\n",
        "        out = self.fc(out)\n",
        "        return out"
      ],
      "metadata": {
        "id": "xZggnSd8B2M_"
      },
      "execution_count": 60,
      "outputs": []
    },
    {
      "cell_type": "code",
      "source": [
        "device = torch.device(\"cuda:0\" if torch.cuda.is_available() else \"cpu\")\n",
        "model = ConvLSTMWithSelfAttention(input_dim, hidden_dim, output_dim, num_layers, bidirectional=True).to(device)\n",
        "optimizer = optim.Adam(model.parameters(),lr=0.01)\n",
        "criterion = nn.BCEWithLogitsLoss()\n",
        "counter_nb = 0\n",
        "for epoch in tqdm(range(24)):\n",
        "     model.train()\n",
        "     counter_nb = counter_nb + 1 \n",
        "     print(counter_nb)\n",
        "     running_loss = 0.0\n",
        "     with torch.cuda.device(0):\n",
        "       for batch in train_dataloader:\n",
        "         inputs, labels = batch[0].to(device), batch[1].to(device)\n",
        "         inputs = inputs.float()  # Convert input tensor to float\n",
        "         optimizer.zero_grad()\n",
        "         labels = labels.float()\n",
        "         outputs, _ = model(inputs)\n",
        "         loss = criterion(outputs, labels)\n",
        "         loss.backward()\n",
        "         optimizer.step()\n",
        "         running_loss += loss.item()\n",
        "         preds = torch.sigmoid(outputs) > 0.5\n",
        "         acc = accuracy_score(labels.cpu().detach().numpy(), preds.cpu().detach().numpy())\n",
        "         #print('Train Accuracy: {:.4f}'.format(acc))\n",
        "     epoch_loss = running_loss / (len(train_dataloader))\n",
        "\n",
        "     best_val_loss = np.inf\n",
        "     patience = 3\n",
        "     counter = 0\n",
        "     val_loss = 0.0\n",
        "     model.eval()\n",
        "     with torch.no_grad():\n",
        "         for batch in val_dataloader:\n",
        "             inputs, labels = batch[0].to(device), batch[1].to(device)\n",
        "             inputs = inputs.float()  # Convert input tensor to float\n",
        "             labels = labels.float()\n",
        "             outputs, _= model(inputs)\n",
        "             loss = criterion(outputs, labels)\n",
        "             val_loss += loss.item()\n",
        "             val_preds = torch.sigmoid(outputs) > 0.5\n",
        "             val_acc = accuracy_score(labels.cpu().detach().numpy(), val_preds.cpu().detach().numpy())\n",
        "             #print('Val Accuracy: {:.4f}'.format(val_acc))\n",
        "     val_loss = val_loss / (len(val_dataloader))\n",
        "     # Check if the validation loss has improved\n",
        "     if val_loss < best_val_loss:\n",
        "                best_val_loss = val_loss\n",
        "                counter = 0\n",
        "     else:\n",
        "         counter += 1\n",
        "\n",
        "     # Stop the training process if the validation loss hasn't improved for `patience` epochs\n",
        "     if counter >= patience:\n",
        "         break\n",
        "     print(\" epoch loss :\", epoch_loss , \"| val loss :\", val_loss)\n",
        "     print('Train Accuracy: {:.4f}'.format(acc))\n",
        "     print('Val Accuracy: {:.4f}'.format(val_acc))\n",
        "\n",
        "print(\"Training stopped after epoch\", epoch)\n",
        "        "
      ],
      "metadata": {
        "colab": {
          "base_uri": "https://localhost:8080/",
          "height": 415
        },
        "id": "eE9Y_aBf3sDm",
        "outputId": "93fe18f9-125c-492c-da05-f2c6f72e0cd0"
      },
      "execution_count": 62,
      "outputs": [
        {
          "output_type": "stream",
          "name": "stderr",
          "text": [
            "  0%|          | 0/24 [00:00<?, ?it/s]"
          ]
        },
        {
          "output_type": "stream",
          "name": "stdout",
          "text": [
            "1\n"
          ]
        },
        {
          "output_type": "stream",
          "name": "stderr",
          "text": [
            "\n"
          ]
        },
        {
          "output_type": "error",
          "ename": "RuntimeError",
          "evalue": "ignored",
          "traceback": [
            "\u001b[0;31m---------------------------------------------------------------------------\u001b[0m",
            "\u001b[0;31mRuntimeError\u001b[0m                              Traceback (most recent call last)",
            "\u001b[0;32m<ipython-input-62-a06a3122e782>\u001b[0m in \u001b[0;36m<cell line: 6>\u001b[0;34m()\u001b[0m\n\u001b[1;32m     15\u001b[0m          \u001b[0moptimizer\u001b[0m\u001b[0;34m.\u001b[0m\u001b[0mzero_grad\u001b[0m\u001b[0;34m(\u001b[0m\u001b[0;34m)\u001b[0m\u001b[0;34m\u001b[0m\u001b[0;34m\u001b[0m\u001b[0m\n\u001b[1;32m     16\u001b[0m          \u001b[0mlabels\u001b[0m \u001b[0;34m=\u001b[0m \u001b[0mlabels\u001b[0m\u001b[0;34m.\u001b[0m\u001b[0mfloat\u001b[0m\u001b[0;34m(\u001b[0m\u001b[0;34m)\u001b[0m\u001b[0;34m\u001b[0m\u001b[0;34m\u001b[0m\u001b[0m\n\u001b[0;32m---> 17\u001b[0;31m          \u001b[0moutputs\u001b[0m\u001b[0;34m,\u001b[0m \u001b[0m_\u001b[0m \u001b[0;34m=\u001b[0m \u001b[0mmodel\u001b[0m\u001b[0;34m(\u001b[0m\u001b[0minputs\u001b[0m\u001b[0;34m)\u001b[0m\u001b[0;34m\u001b[0m\u001b[0;34m\u001b[0m\u001b[0m\n\u001b[0m\u001b[1;32m     18\u001b[0m          \u001b[0mloss\u001b[0m \u001b[0;34m=\u001b[0m \u001b[0mcriterion\u001b[0m\u001b[0;34m(\u001b[0m\u001b[0moutputs\u001b[0m\u001b[0;34m,\u001b[0m \u001b[0mlabels\u001b[0m\u001b[0;34m)\u001b[0m\u001b[0;34m\u001b[0m\u001b[0;34m\u001b[0m\u001b[0m\n\u001b[1;32m     19\u001b[0m          \u001b[0mloss\u001b[0m\u001b[0;34m.\u001b[0m\u001b[0mbackward\u001b[0m\u001b[0;34m(\u001b[0m\u001b[0;34m)\u001b[0m\u001b[0;34m\u001b[0m\u001b[0;34m\u001b[0m\u001b[0m\n",
            "\u001b[0;32m/usr/local/lib/python3.9/dist-packages/torch/nn/modules/module.py\u001b[0m in \u001b[0;36m_call_impl\u001b[0;34m(self, *args, **kwargs)\u001b[0m\n\u001b[1;32m   1499\u001b[0m                 \u001b[0;32mor\u001b[0m \u001b[0m_global_backward_pre_hooks\u001b[0m \u001b[0;32mor\u001b[0m \u001b[0m_global_backward_hooks\u001b[0m\u001b[0;34m\u001b[0m\u001b[0;34m\u001b[0m\u001b[0m\n\u001b[1;32m   1500\u001b[0m                 or _global_forward_hooks or _global_forward_pre_hooks):\n\u001b[0;32m-> 1501\u001b[0;31m             \u001b[0;32mreturn\u001b[0m \u001b[0mforward_call\u001b[0m\u001b[0;34m(\u001b[0m\u001b[0;34m*\u001b[0m\u001b[0margs\u001b[0m\u001b[0;34m,\u001b[0m \u001b[0;34m**\u001b[0m\u001b[0mkwargs\u001b[0m\u001b[0;34m)\u001b[0m\u001b[0;34m\u001b[0m\u001b[0;34m\u001b[0m\u001b[0m\n\u001b[0m\u001b[1;32m   1502\u001b[0m         \u001b[0;31m# Do not call functions when jit is used\u001b[0m\u001b[0;34m\u001b[0m\u001b[0;34m\u001b[0m\u001b[0m\n\u001b[1;32m   1503\u001b[0m         \u001b[0mfull_backward_hooks\u001b[0m\u001b[0;34m,\u001b[0m \u001b[0mnon_full_backward_hooks\u001b[0m \u001b[0;34m=\u001b[0m \u001b[0;34m[\u001b[0m\u001b[0;34m]\u001b[0m\u001b[0;34m,\u001b[0m \u001b[0;34m[\u001b[0m\u001b[0;34m]\u001b[0m\u001b[0;34m\u001b[0m\u001b[0;34m\u001b[0m\u001b[0m\n",
            "\u001b[0;32m<ipython-input-60-d27f2846ef02>\u001b[0m in \u001b[0;36mforward\u001b[0;34m(self, x)\u001b[0m\n\u001b[1;32m     46\u001b[0m         \u001b[0;31m# Convolutional layers\u001b[0m\u001b[0;34m\u001b[0m\u001b[0;34m\u001b[0m\u001b[0m\n\u001b[1;32m     47\u001b[0m         \u001b[0mx\u001b[0m \u001b[0;34m=\u001b[0m \u001b[0mx\u001b[0m\u001b[0;34m.\u001b[0m\u001b[0munsqueeze\u001b[0m\u001b[0;34m(\u001b[0m\u001b[0;36m1\u001b[0m\u001b[0;34m)\u001b[0m \u001b[0;31m# Add channel dimension\u001b[0m\u001b[0;34m\u001b[0m\u001b[0;34m\u001b[0m\u001b[0m\n\u001b[0;32m---> 48\u001b[0;31m         \u001b[0mx\u001b[0m \u001b[0;34m=\u001b[0m \u001b[0mF\u001b[0m\u001b[0;34m.\u001b[0m\u001b[0mrelu\u001b[0m\u001b[0;34m(\u001b[0m\u001b[0mself\u001b[0m\u001b[0;34m.\u001b[0m\u001b[0mconv1\u001b[0m\u001b[0;34m(\u001b[0m\u001b[0mx\u001b[0m\u001b[0;34m)\u001b[0m\u001b[0;34m)\u001b[0m\u001b[0;34m\u001b[0m\u001b[0;34m\u001b[0m\u001b[0m\n\u001b[0m\u001b[1;32m     49\u001b[0m         \u001b[0mx\u001b[0m \u001b[0;34m=\u001b[0m \u001b[0mF\u001b[0m\u001b[0;34m.\u001b[0m\u001b[0mrelu\u001b[0m\u001b[0;34m(\u001b[0m\u001b[0mself\u001b[0m\u001b[0;34m.\u001b[0m\u001b[0mconv2\u001b[0m\u001b[0;34m(\u001b[0m\u001b[0mx\u001b[0m\u001b[0;34m)\u001b[0m\u001b[0;34m)\u001b[0m\u001b[0;34m\u001b[0m\u001b[0;34m\u001b[0m\u001b[0m\n\u001b[1;32m     50\u001b[0m         \u001b[0mx\u001b[0m \u001b[0;34m=\u001b[0m \u001b[0mx\u001b[0m\u001b[0;34m.\u001b[0m\u001b[0mview\u001b[0m\u001b[0;34m(\u001b[0m\u001b[0mx\u001b[0m\u001b[0;34m.\u001b[0m\u001b[0msize\u001b[0m\u001b[0;34m(\u001b[0m\u001b[0;36m0\u001b[0m\u001b[0;34m)\u001b[0m\u001b[0;34m,\u001b[0m \u001b[0mx\u001b[0m\u001b[0;34m.\u001b[0m\u001b[0msize\u001b[0m\u001b[0;34m(\u001b[0m\u001b[0;36m1\u001b[0m\u001b[0;34m)\u001b[0m\u001b[0;34m,\u001b[0m \u001b[0;34m-\u001b[0m\u001b[0;36m1\u001b[0m\u001b[0;34m)\u001b[0m\u001b[0;34m\u001b[0m\u001b[0;34m\u001b[0m\u001b[0m\n",
            "\u001b[0;32m/usr/local/lib/python3.9/dist-packages/torch/nn/modules/module.py\u001b[0m in \u001b[0;36m_call_impl\u001b[0;34m(self, *args, **kwargs)\u001b[0m\n\u001b[1;32m   1499\u001b[0m                 \u001b[0;32mor\u001b[0m \u001b[0m_global_backward_pre_hooks\u001b[0m \u001b[0;32mor\u001b[0m \u001b[0m_global_backward_hooks\u001b[0m\u001b[0;34m\u001b[0m\u001b[0;34m\u001b[0m\u001b[0m\n\u001b[1;32m   1500\u001b[0m                 or _global_forward_hooks or _global_forward_pre_hooks):\n\u001b[0;32m-> 1501\u001b[0;31m             \u001b[0;32mreturn\u001b[0m \u001b[0mforward_call\u001b[0m\u001b[0;34m(\u001b[0m\u001b[0;34m*\u001b[0m\u001b[0margs\u001b[0m\u001b[0;34m,\u001b[0m \u001b[0;34m**\u001b[0m\u001b[0mkwargs\u001b[0m\u001b[0;34m)\u001b[0m\u001b[0;34m\u001b[0m\u001b[0;34m\u001b[0m\u001b[0m\n\u001b[0m\u001b[1;32m   1502\u001b[0m         \u001b[0;31m# Do not call functions when jit is used\u001b[0m\u001b[0;34m\u001b[0m\u001b[0;34m\u001b[0m\u001b[0m\n\u001b[1;32m   1503\u001b[0m         \u001b[0mfull_backward_hooks\u001b[0m\u001b[0;34m,\u001b[0m \u001b[0mnon_full_backward_hooks\u001b[0m \u001b[0;34m=\u001b[0m \u001b[0;34m[\u001b[0m\u001b[0;34m]\u001b[0m\u001b[0;34m,\u001b[0m \u001b[0;34m[\u001b[0m\u001b[0;34m]\u001b[0m\u001b[0;34m\u001b[0m\u001b[0;34m\u001b[0m\u001b[0m\n",
            "\u001b[0;32m/usr/local/lib/python3.9/dist-packages/torch/nn/modules/conv.py\u001b[0m in \u001b[0;36mforward\u001b[0;34m(self, input)\u001b[0m\n\u001b[1;32m    461\u001b[0m \u001b[0;34m\u001b[0m\u001b[0m\n\u001b[1;32m    462\u001b[0m     \u001b[0;32mdef\u001b[0m \u001b[0mforward\u001b[0m\u001b[0;34m(\u001b[0m\u001b[0mself\u001b[0m\u001b[0;34m,\u001b[0m \u001b[0minput\u001b[0m\u001b[0;34m:\u001b[0m \u001b[0mTensor\u001b[0m\u001b[0;34m)\u001b[0m \u001b[0;34m->\u001b[0m \u001b[0mTensor\u001b[0m\u001b[0;34m:\u001b[0m\u001b[0;34m\u001b[0m\u001b[0;34m\u001b[0m\u001b[0m\n\u001b[0;32m--> 463\u001b[0;31m         \u001b[0;32mreturn\u001b[0m \u001b[0mself\u001b[0m\u001b[0;34m.\u001b[0m\u001b[0m_conv_forward\u001b[0m\u001b[0;34m(\u001b[0m\u001b[0minput\u001b[0m\u001b[0;34m,\u001b[0m \u001b[0mself\u001b[0m\u001b[0;34m.\u001b[0m\u001b[0mweight\u001b[0m\u001b[0;34m,\u001b[0m \u001b[0mself\u001b[0m\u001b[0;34m.\u001b[0m\u001b[0mbias\u001b[0m\u001b[0;34m)\u001b[0m\u001b[0;34m\u001b[0m\u001b[0;34m\u001b[0m\u001b[0m\n\u001b[0m\u001b[1;32m    464\u001b[0m \u001b[0;34m\u001b[0m\u001b[0m\n\u001b[1;32m    465\u001b[0m \u001b[0;32mclass\u001b[0m \u001b[0mConv3d\u001b[0m\u001b[0;34m(\u001b[0m\u001b[0m_ConvNd\u001b[0m\u001b[0;34m)\u001b[0m\u001b[0;34m:\u001b[0m\u001b[0;34m\u001b[0m\u001b[0;34m\u001b[0m\u001b[0m\n",
            "\u001b[0;32m/usr/local/lib/python3.9/dist-packages/torch/nn/modules/conv.py\u001b[0m in \u001b[0;36m_conv_forward\u001b[0;34m(self, input, weight, bias)\u001b[0m\n\u001b[1;32m    457\u001b[0m                             \u001b[0mweight\u001b[0m\u001b[0;34m,\u001b[0m \u001b[0mbias\u001b[0m\u001b[0;34m,\u001b[0m \u001b[0mself\u001b[0m\u001b[0;34m.\u001b[0m\u001b[0mstride\u001b[0m\u001b[0;34m,\u001b[0m\u001b[0;34m\u001b[0m\u001b[0;34m\u001b[0m\u001b[0m\n\u001b[1;32m    458\u001b[0m                             _pair(0), self.dilation, self.groups)\n\u001b[0;32m--> 459\u001b[0;31m         return F.conv2d(input, weight, bias, self.stride,\n\u001b[0m\u001b[1;32m    460\u001b[0m                         self.padding, self.dilation, self.groups)\n\u001b[1;32m    461\u001b[0m \u001b[0;34m\u001b[0m\u001b[0m\n",
            "\u001b[0;31mRuntimeError\u001b[0m: Given groups=1, weight of size [32, 1, 3, 3], expected input[1, 64, 1, 200] to have 1 channels, but got 64 channels instead"
          ]
        }
      ]
    },
    {
      "cell_type": "code",
      "source": [
        "from sklearn.metrics import f1_score, precision_score, recall_score\n",
        "model.eval()\n",
        "y_true = []\n",
        "y_pred = []\n",
        "with torch.no_grad():\n",
        "    for batch in test_dataloader:\n",
        "        inputs, labels = batch[0].to(device), batch[1].to(device)\n",
        "        labels = labels.float()\n",
        "        outputs, _ = model(inputs)\n",
        "        preds = torch.sigmoid(outputs) > 0.5\n",
        "        y_true.extend(labels.cpu().detach().numpy())\n",
        "        y_pred.extend(preds.cpu().detach().numpy())\n",
        "test_acc = accuracy_score(y_true, y_pred)\n",
        "test_f1 = f1_score(y_true, y_pred, average='macro')\n",
        "test_pres = precision_score(y_true, y_pred, average='macro')\n",
        "test_recall = recall_score(y_true, y_pred, average='macro')\n",
        "print('Test Accuracy: {:.4f}'.format(test_acc))\n",
        "print('Test f1 score: {:.4f}'.format(test_f1))\n",
        "print('Test precision: {:.4f}'.format(test_pres))\n",
        "print('Test recall: {:.4f}'.format(test_recall))"
      ],
      "metadata": {
        "colab": {
          "base_uri": "https://localhost:8080/"
        },
        "id": "3Iogvg4NHukE",
        "outputId": "6a11b89b-34ab-4911-bb1c-416c8dec31bc"
      },
      "execution_count": 32,
      "outputs": [
        {
          "output_type": "stream",
          "name": "stdout",
          "text": [
            "Test Accuracy: 0.0000\n"
          ]
        }
      ]
    },
    {
      "cell_type": "code",
      "source": [
        "# Set the model to evaluation mode\n",
        "model.eval()\n",
        "device = \"cuda\"\n",
        "# Tokenize the new complaint and pad the sequence\n",
        "#new_complaint = ['واش دير للعشى']\n",
        "#new_complaint  = [\"شوكران علا هاد \"]\n",
        "#new_complaint  = [\"نبي نروح للحوش\"]\n",
        "new_complaint  = [\"شبيك شتحب \"]\n",
        "seq = tokenizer.texts_to_sequences(new_complaint)\n",
        "padded = pad_sequences(seq, maxlen=max_length)\n",
        "\n",
        "# Convert the padded sequence to a PyTorch tensor and move it to the device (e.g., GPU) if available\n",
        "padded_tensor = torch.LongTensor(padded).to(device)\n",
        "\n",
        "# Compute the model's prediction for the padded sequence\n",
        "with torch.no_grad():\n",
        "    pred = model(padded_tensor)\n",
        "\n",
        "# Move the prediction back to the CPU and convert to a numpy array\n",
        "#pred = pred.cpu().numpy()\n",
        "\n",
        "# Map the prediction to a class label using the CLASS_DICT{'DZ': 0, 'LY': 1, 'MA': 2, 'TN': 3}\n",
        "CLASS_DICT = {0: \"DZ\",1: \"LY\", 2: \"MA\",3: \"TN\"}\n",
        "class_label = CLASS_DICT[np.argmax(pred[0].cpu().numpy(), axis=1)[0]]\n",
        "\n",
        "# Print the prediction and the predicted class label\n",
        "print(class_label)"
      ],
      "metadata": {
        "id": "WJpurl88EEGm"
      },
      "execution_count": null,
      "outputs": []
    },
    {
      "cell_type": "code",
      "source": [
        "torch.save(model.state_dict(), 'model.pth')"
      ],
      "metadata": {
        "id": "blA9EW05Ct5K"
      },
      "execution_count": null,
      "outputs": []
    }
  ]
}