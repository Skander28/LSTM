{
  "nbformat": 4,
  "nbformat_minor": 0,
  "metadata": {
    "colab": {
      "provenance": [],
      "include_colab_link": true
    },
    "kernelspec": {
      "name": "python3",
      "display_name": "Python 3"
    },
    "language_info": {
      "name": "python"
    },
    "accelerator": "GPU",
    "gpuClass": "standard"
  },
  "cells": [
    {
      "cell_type": "markdown",
      "metadata": {
        "id": "view-in-github",
        "colab_type": "text"
      },
      "source": [
        "<a href=\"https://colab.research.google.com/github/Skander28/Models/blob/main/bilstm_SA(oversampling%2Blemmatisation).ipynb\" target=\"_parent\"><img src=\"https://colab.research.google.com/assets/colab-badge.svg\" alt=\"Open In Colab\"/></a>"
      ]
    },
    {
      "cell_type": "code",
      "execution_count": 82,
      "metadata": {
        "id": "SaQmAYWs1wAv"
      },
      "outputs": [],
      "source": [
        "import torch\n",
        "import torch.nn as nn\n",
        "import torch.optim as optim\n",
        "from torch.utils.data import Dataset, DataLoader\n",
        "from sklearn.model_selection import train_test_split\n",
        "from keras.preprocessing.text import Tokenizer\n",
        "from keras.utils import pad_sequences\n"
      ]
    },
    {
      "cell_type": "code",
      "source": [
        "from google.colab import drive\n",
        "drive.mount('/content/drive')"
      ],
      "metadata": {
        "colab": {
          "base_uri": "https://localhost:8080/"
        },
        "id": "k7wOY4ro7va_",
        "outputId": "da834d15-1fac-4391-a2fc-6bdd3ab0aa2f"
      },
      "execution_count": 83,
      "outputs": [
        {
          "output_type": "stream",
          "name": "stdout",
          "text": [
            "Drive already mounted at /content/drive; to attempt to forcibly remount, call drive.mount(\"/content/drive\", force_remount=True).\n"
          ]
        }
      ]
    },
    {
      "cell_type": "code",
      "source": [
        "!ls /content/drive/MyDrive/"
      ],
      "metadata": {
        "colab": {
          "base_uri": "https://localhost:8080/"
        },
        "id": "ZyEdq6kX7yDx",
        "outputId": "957e6d97-35bf-4b93-80e9-08c7b28a9ab8"
      },
      "execution_count": 84,
      "outputs": [
        {
          "output_type": "stream",
          "name": "stdout",
          "text": [
            "'carte visite badra.gdoc'\n",
            " Classroom\n",
            "'Colab Notebooks'\n",
            " django\n",
            " entreprise-1-20220417T102515Z-001.zip\n",
            "'Espace citoyen.pdf'\n",
            " ez-learning\n",
            " maghrebi\n",
            "'model (1).pth'\n",
            " preprocessed_tweets.csv\n",
            " pre_tweets.csv\n",
            " Projet_Java_FediBoussaada_LaribiSkander_2A\n",
            " Projet_Microservices\n",
            " trainer2.pth\n",
            "'Untitled presentation.gslides'\n"
          ]
        }
      ]
    },
    {
      "cell_type": "code",
      "source": [
        "import pandas as pd\n",
        "tweets_ids = pd.read_csv('/content/drive/MyDrive/maghrebi/dialect_dataset.csv')"
      ],
      "metadata": {
        "id": "uU0Oz6bT70Hn"
      },
      "execution_count": 85,
      "outputs": []
    },
    {
      "cell_type": "code",
      "source": [
        "# Read the given dataset which contain the Ids and the labels\n",
        "df_clean = pd.read_csv('/content/drive/MyDrive/maghrebi/messages.csv',\n",
        "                 lineterminator='\\n')\n",
        "\n",
        "column_names = ['id', 'tweets']  # list of column names\n",
        "\n",
        "df_clean.columns = column_names\n",
        "df_clean.head()"
      ],
      "metadata": {
        "colab": {
          "base_uri": "https://localhost:8080/",
          "height": 206
        },
        "id": "YGLO7nm6ZNBm",
        "outputId": "ba339872-04b3-4a83-9c85-6c4804c9eb47"
      },
      "execution_count": 86,
      "outputs": [
        {
          "output_type": "execute_result",
          "data": {
            "text/plain": [
              "             id                                             tweets\n",
              "0  1.175358e+18   @Nw8ieJUwaCAAreT لكن بالنهاية .. ينتفض .. يغير .\n",
              "1  1.175416e+18  @7zNqXP0yrODdRjK يعني هذا محسوب على البشر .. ح...\n",
              "2  1.175450e+18                    @KanaanRema مبين من كلامه خليجي\n",
              "3  1.175471e+18         @HAIDER76128900 يسلملي مرورك وروحك الحلوه💐\n",
              "4  1.175497e+18                 @hmo2406 وين هل الغيبه  اخ محمد 🌸🌺"
            ],
            "text/html": [
              "\n",
              "  <div id=\"df-3fc41ae8-8019-42be-b115-2de4e901ab43\">\n",
              "    <div class=\"colab-df-container\">\n",
              "      <div>\n",
              "<style scoped>\n",
              "    .dataframe tbody tr th:only-of-type {\n",
              "        vertical-align: middle;\n",
              "    }\n",
              "\n",
              "    .dataframe tbody tr th {\n",
              "        vertical-align: top;\n",
              "    }\n",
              "\n",
              "    .dataframe thead th {\n",
              "        text-align: right;\n",
              "    }\n",
              "</style>\n",
              "<table border=\"1\" class=\"dataframe\">\n",
              "  <thead>\n",
              "    <tr style=\"text-align: right;\">\n",
              "      <th></th>\n",
              "      <th>id</th>\n",
              "      <th>tweets</th>\n",
              "    </tr>\n",
              "  </thead>\n",
              "  <tbody>\n",
              "    <tr>\n",
              "      <th>0</th>\n",
              "      <td>1.175358e+18</td>\n",
              "      <td>@Nw8ieJUwaCAAreT لكن بالنهاية .. ينتفض .. يغير .</td>\n",
              "    </tr>\n",
              "    <tr>\n",
              "      <th>1</th>\n",
              "      <td>1.175416e+18</td>\n",
              "      <td>@7zNqXP0yrODdRjK يعني هذا محسوب على البشر .. ح...</td>\n",
              "    </tr>\n",
              "    <tr>\n",
              "      <th>2</th>\n",
              "      <td>1.175450e+18</td>\n",
              "      <td>@KanaanRema مبين من كلامه خليجي</td>\n",
              "    </tr>\n",
              "    <tr>\n",
              "      <th>3</th>\n",
              "      <td>1.175471e+18</td>\n",
              "      <td>@HAIDER76128900 يسلملي مرورك وروحك الحلوه💐</td>\n",
              "    </tr>\n",
              "    <tr>\n",
              "      <th>4</th>\n",
              "      <td>1.175497e+18</td>\n",
              "      <td>@hmo2406 وين هل الغيبه  اخ محمد 🌸🌺</td>\n",
              "    </tr>\n",
              "  </tbody>\n",
              "</table>\n",
              "</div>\n",
              "      <button class=\"colab-df-convert\" onclick=\"convertToInteractive('df-3fc41ae8-8019-42be-b115-2de4e901ab43')\"\n",
              "              title=\"Convert this dataframe to an interactive table.\"\n",
              "              style=\"display:none;\">\n",
              "        \n",
              "  <svg xmlns=\"http://www.w3.org/2000/svg\" height=\"24px\"viewBox=\"0 0 24 24\"\n",
              "       width=\"24px\">\n",
              "    <path d=\"M0 0h24v24H0V0z\" fill=\"none\"/>\n",
              "    <path d=\"M18.56 5.44l.94 2.06.94-2.06 2.06-.94-2.06-.94-.94-2.06-.94 2.06-2.06.94zm-11 1L8.5 8.5l.94-2.06 2.06-.94-2.06-.94L8.5 2.5l-.94 2.06-2.06.94zm10 10l.94 2.06.94-2.06 2.06-.94-2.06-.94-.94-2.06-.94 2.06-2.06.94z\"/><path d=\"M17.41 7.96l-1.37-1.37c-.4-.4-.92-.59-1.43-.59-.52 0-1.04.2-1.43.59L10.3 9.45l-7.72 7.72c-.78.78-.78 2.05 0 2.83L4 21.41c.39.39.9.59 1.41.59.51 0 1.02-.2 1.41-.59l7.78-7.78 2.81-2.81c.8-.78.8-2.07 0-2.86zM5.41 20L4 18.59l7.72-7.72 1.47 1.35L5.41 20z\"/>\n",
              "  </svg>\n",
              "      </button>\n",
              "      \n",
              "  <style>\n",
              "    .colab-df-container {\n",
              "      display:flex;\n",
              "      flex-wrap:wrap;\n",
              "      gap: 12px;\n",
              "    }\n",
              "\n",
              "    .colab-df-convert {\n",
              "      background-color: #E8F0FE;\n",
              "      border: none;\n",
              "      border-radius: 50%;\n",
              "      cursor: pointer;\n",
              "      display: none;\n",
              "      fill: #1967D2;\n",
              "      height: 32px;\n",
              "      padding: 0 0 0 0;\n",
              "      width: 32px;\n",
              "    }\n",
              "\n",
              "    .colab-df-convert:hover {\n",
              "      background-color: #E2EBFA;\n",
              "      box-shadow: 0px 1px 2px rgba(60, 64, 67, 0.3), 0px 1px 3px 1px rgba(60, 64, 67, 0.15);\n",
              "      fill: #174EA6;\n",
              "    }\n",
              "\n",
              "    [theme=dark] .colab-df-convert {\n",
              "      background-color: #3B4455;\n",
              "      fill: #D2E3FC;\n",
              "    }\n",
              "\n",
              "    [theme=dark] .colab-df-convert:hover {\n",
              "      background-color: #434B5C;\n",
              "      box-shadow: 0px 1px 3px 1px rgba(0, 0, 0, 0.15);\n",
              "      filter: drop-shadow(0px 1px 2px rgba(0, 0, 0, 0.3));\n",
              "      fill: #FFFFFF;\n",
              "    }\n",
              "  </style>\n",
              "\n",
              "      <script>\n",
              "        const buttonEl =\n",
              "          document.querySelector('#df-3fc41ae8-8019-42be-b115-2de4e901ab43 button.colab-df-convert');\n",
              "        buttonEl.style.display =\n",
              "          google.colab.kernel.accessAllowed ? 'block' : 'none';\n",
              "\n",
              "        async function convertToInteractive(key) {\n",
              "          const element = document.querySelector('#df-3fc41ae8-8019-42be-b115-2de4e901ab43');\n",
              "          const dataTable =\n",
              "            await google.colab.kernel.invokeFunction('convertToInteractive',\n",
              "                                                     [key], {});\n",
              "          if (!dataTable) return;\n",
              "\n",
              "          const docLinkHtml = 'Like what you see? Visit the ' +\n",
              "            '<a target=\"_blank\" href=https://colab.research.google.com/notebooks/data_table.ipynb>data table notebook</a>'\n",
              "            + ' to learn more about interactive tables.';\n",
              "          element.innerHTML = '';\n",
              "          dataTable['output_type'] = 'display_data';\n",
              "          await google.colab.output.renderOutput(dataTable, element);\n",
              "          const docLink = document.createElement('div');\n",
              "          docLink.innerHTML = docLinkHtml;\n",
              "          element.appendChild(docLink);\n",
              "        }\n",
              "      </script>\n",
              "    </div>\n",
              "  </div>\n",
              "  "
            ]
          },
          "metadata": {},
          "execution_count": 86
        }
      ]
    },
    {
      "cell_type": "code",
      "source": [
        "tweets_dataset = pd.merge(tweets_ids, df_clean, on='id', how='inner')\n",
        "tweets_dataset.head()"
      ],
      "metadata": {
        "colab": {
          "base_uri": "https://localhost:8080/",
          "height": 206
        },
        "id": "FG5SYVY7ZM7H",
        "outputId": "74b577ff-27b6-403f-9ead-777d2b49bc16"
      },
      "execution_count": 87,
      "outputs": [
        {
          "output_type": "execute_result",
          "data": {
            "text/plain": [
              "                    id dialect  \\\n",
              "0  1175358310087892992      IQ   \n",
              "1  1175416117793349632      IQ   \n",
              "2  1175450108898565888      IQ   \n",
              "3  1175471073770573824      IQ   \n",
              "4  1175496913145217024      IQ   \n",
              "\n",
              "                                              tweets  \n",
              "0   @Nw8ieJUwaCAAreT لكن بالنهاية .. ينتفض .. يغير .  \n",
              "1  @7zNqXP0yrODdRjK يعني هذا محسوب على البشر .. ح...  \n",
              "2                    @KanaanRema مبين من كلامه خليجي  \n",
              "3         @HAIDER76128900 يسلملي مرورك وروحك الحلوه💐  \n",
              "4                 @hmo2406 وين هل الغيبه  اخ محمد 🌸🌺  "
            ],
            "text/html": [
              "\n",
              "  <div id=\"df-99c625dd-c756-450d-bc55-9763d7cf62c0\">\n",
              "    <div class=\"colab-df-container\">\n",
              "      <div>\n",
              "<style scoped>\n",
              "    .dataframe tbody tr th:only-of-type {\n",
              "        vertical-align: middle;\n",
              "    }\n",
              "\n",
              "    .dataframe tbody tr th {\n",
              "        vertical-align: top;\n",
              "    }\n",
              "\n",
              "    .dataframe thead th {\n",
              "        text-align: right;\n",
              "    }\n",
              "</style>\n",
              "<table border=\"1\" class=\"dataframe\">\n",
              "  <thead>\n",
              "    <tr style=\"text-align: right;\">\n",
              "      <th></th>\n",
              "      <th>id</th>\n",
              "      <th>dialect</th>\n",
              "      <th>tweets</th>\n",
              "    </tr>\n",
              "  </thead>\n",
              "  <tbody>\n",
              "    <tr>\n",
              "      <th>0</th>\n",
              "      <td>1175358310087892992</td>\n",
              "      <td>IQ</td>\n",
              "      <td>@Nw8ieJUwaCAAreT لكن بالنهاية .. ينتفض .. يغير .</td>\n",
              "    </tr>\n",
              "    <tr>\n",
              "      <th>1</th>\n",
              "      <td>1175416117793349632</td>\n",
              "      <td>IQ</td>\n",
              "      <td>@7zNqXP0yrODdRjK يعني هذا محسوب على البشر .. ح...</td>\n",
              "    </tr>\n",
              "    <tr>\n",
              "      <th>2</th>\n",
              "      <td>1175450108898565888</td>\n",
              "      <td>IQ</td>\n",
              "      <td>@KanaanRema مبين من كلامه خليجي</td>\n",
              "    </tr>\n",
              "    <tr>\n",
              "      <th>3</th>\n",
              "      <td>1175471073770573824</td>\n",
              "      <td>IQ</td>\n",
              "      <td>@HAIDER76128900 يسلملي مرورك وروحك الحلوه💐</td>\n",
              "    </tr>\n",
              "    <tr>\n",
              "      <th>4</th>\n",
              "      <td>1175496913145217024</td>\n",
              "      <td>IQ</td>\n",
              "      <td>@hmo2406 وين هل الغيبه  اخ محمد 🌸🌺</td>\n",
              "    </tr>\n",
              "  </tbody>\n",
              "</table>\n",
              "</div>\n",
              "      <button class=\"colab-df-convert\" onclick=\"convertToInteractive('df-99c625dd-c756-450d-bc55-9763d7cf62c0')\"\n",
              "              title=\"Convert this dataframe to an interactive table.\"\n",
              "              style=\"display:none;\">\n",
              "        \n",
              "  <svg xmlns=\"http://www.w3.org/2000/svg\" height=\"24px\"viewBox=\"0 0 24 24\"\n",
              "       width=\"24px\">\n",
              "    <path d=\"M0 0h24v24H0V0z\" fill=\"none\"/>\n",
              "    <path d=\"M18.56 5.44l.94 2.06.94-2.06 2.06-.94-2.06-.94-.94-2.06-.94 2.06-2.06.94zm-11 1L8.5 8.5l.94-2.06 2.06-.94-2.06-.94L8.5 2.5l-.94 2.06-2.06.94zm10 10l.94 2.06.94-2.06 2.06-.94-2.06-.94-.94-2.06-.94 2.06-2.06.94z\"/><path d=\"M17.41 7.96l-1.37-1.37c-.4-.4-.92-.59-1.43-.59-.52 0-1.04.2-1.43.59L10.3 9.45l-7.72 7.72c-.78.78-.78 2.05 0 2.83L4 21.41c.39.39.9.59 1.41.59.51 0 1.02-.2 1.41-.59l7.78-7.78 2.81-2.81c.8-.78.8-2.07 0-2.86zM5.41 20L4 18.59l7.72-7.72 1.47 1.35L5.41 20z\"/>\n",
              "  </svg>\n",
              "      </button>\n",
              "      \n",
              "  <style>\n",
              "    .colab-df-container {\n",
              "      display:flex;\n",
              "      flex-wrap:wrap;\n",
              "      gap: 12px;\n",
              "    }\n",
              "\n",
              "    .colab-df-convert {\n",
              "      background-color: #E8F0FE;\n",
              "      border: none;\n",
              "      border-radius: 50%;\n",
              "      cursor: pointer;\n",
              "      display: none;\n",
              "      fill: #1967D2;\n",
              "      height: 32px;\n",
              "      padding: 0 0 0 0;\n",
              "      width: 32px;\n",
              "    }\n",
              "\n",
              "    .colab-df-convert:hover {\n",
              "      background-color: #E2EBFA;\n",
              "      box-shadow: 0px 1px 2px rgba(60, 64, 67, 0.3), 0px 1px 3px 1px rgba(60, 64, 67, 0.15);\n",
              "      fill: #174EA6;\n",
              "    }\n",
              "\n",
              "    [theme=dark] .colab-df-convert {\n",
              "      background-color: #3B4455;\n",
              "      fill: #D2E3FC;\n",
              "    }\n",
              "\n",
              "    [theme=dark] .colab-df-convert:hover {\n",
              "      background-color: #434B5C;\n",
              "      box-shadow: 0px 1px 3px 1px rgba(0, 0, 0, 0.15);\n",
              "      filter: drop-shadow(0px 1px 2px rgba(0, 0, 0, 0.3));\n",
              "      fill: #FFFFFF;\n",
              "    }\n",
              "  </style>\n",
              "\n",
              "      <script>\n",
              "        const buttonEl =\n",
              "          document.querySelector('#df-99c625dd-c756-450d-bc55-9763d7cf62c0 button.colab-df-convert');\n",
              "        buttonEl.style.display =\n",
              "          google.colab.kernel.accessAllowed ? 'block' : 'none';\n",
              "\n",
              "        async function convertToInteractive(key) {\n",
              "          const element = document.querySelector('#df-99c625dd-c756-450d-bc55-9763d7cf62c0');\n",
              "          const dataTable =\n",
              "            await google.colab.kernel.invokeFunction('convertToInteractive',\n",
              "                                                     [key], {});\n",
              "          if (!dataTable) return;\n",
              "\n",
              "          const docLinkHtml = 'Like what you see? Visit the ' +\n",
              "            '<a target=\"_blank\" href=https://colab.research.google.com/notebooks/data_table.ipynb>data table notebook</a>'\n",
              "            + ' to learn more about interactive tables.';\n",
              "          element.innerHTML = '';\n",
              "          dataTable['output_type'] = 'display_data';\n",
              "          await google.colab.output.renderOutput(dataTable, element);\n",
              "          const docLink = document.createElement('div');\n",
              "          docLink.innerHTML = docLinkHtml;\n",
              "          element.appendChild(docLink);\n",
              "        }\n",
              "      </script>\n",
              "    </div>\n",
              "  </div>\n",
              "  "
            ]
          },
          "metadata": {},
          "execution_count": 87
        }
      ]
    },
    {
      "cell_type": "code",
      "source": [
        "filtered_df = tweets_dataset[tweets_dataset['dialect'].isin(['TN','DZ','MA','LY'])]\n",
        "filtered_df.head()"
      ],
      "metadata": {
        "colab": {
          "base_uri": "https://localhost:8080/",
          "height": 206
        },
        "id": "uNxi3RM1ZM0L",
        "outputId": "6bc06fc5-984b-460e-e8bc-d1404acf2f6b"
      },
      "execution_count": 88,
      "outputs": [
        {
          "output_type": "execute_result",
          "data": {
            "text/plain": [
              "                        id dialect  \\\n",
              "15497  1009754958479151232      LY   \n",
              "15498  1009794751548313600      LY   \n",
              "15499  1019989115490787200      LY   \n",
              "15500  1035479791758135168      LY   \n",
              "15501  1035481122921164800      LY   \n",
              "\n",
              "                                                  tweets  \n",
              "15497  @toha_Altomy @gy_yah قليلين ادب ومنافقين. لو ا...  \n",
              "15498  @AlmFaisal 😂😂 الليبيين متقلبين!!!\\nبس بالنسبة ...  \n",
              "15499  @smsm071990 @ALMOGRBE كل 20 تانيه شاب ليبي بير...  \n",
              "15500  @AboryPro @lyranoo85 رانيا عقليتك متخلفة. اولا...  \n",
              "15501  @lyranoo85 شكلك متعقدة علشان الراجل لي تحبيه ا...  "
            ],
            "text/html": [
              "\n",
              "  <div id=\"df-f29d304d-0ece-4fc3-b260-672648727212\">\n",
              "    <div class=\"colab-df-container\">\n",
              "      <div>\n",
              "<style scoped>\n",
              "    .dataframe tbody tr th:only-of-type {\n",
              "        vertical-align: middle;\n",
              "    }\n",
              "\n",
              "    .dataframe tbody tr th {\n",
              "        vertical-align: top;\n",
              "    }\n",
              "\n",
              "    .dataframe thead th {\n",
              "        text-align: right;\n",
              "    }\n",
              "</style>\n",
              "<table border=\"1\" class=\"dataframe\">\n",
              "  <thead>\n",
              "    <tr style=\"text-align: right;\">\n",
              "      <th></th>\n",
              "      <th>id</th>\n",
              "      <th>dialect</th>\n",
              "      <th>tweets</th>\n",
              "    </tr>\n",
              "  </thead>\n",
              "  <tbody>\n",
              "    <tr>\n",
              "      <th>15497</th>\n",
              "      <td>1009754958479151232</td>\n",
              "      <td>LY</td>\n",
              "      <td>@toha_Altomy @gy_yah قليلين ادب ومنافقين. لو ا...</td>\n",
              "    </tr>\n",
              "    <tr>\n",
              "      <th>15498</th>\n",
              "      <td>1009794751548313600</td>\n",
              "      <td>LY</td>\n",
              "      <td>@AlmFaisal 😂😂 الليبيين متقلبين!!!\\nبس بالنسبة ...</td>\n",
              "    </tr>\n",
              "    <tr>\n",
              "      <th>15499</th>\n",
              "      <td>1019989115490787200</td>\n",
              "      <td>LY</td>\n",
              "      <td>@smsm071990 @ALMOGRBE كل 20 تانيه شاب ليبي بير...</td>\n",
              "    </tr>\n",
              "    <tr>\n",
              "      <th>15500</th>\n",
              "      <td>1035479791758135168</td>\n",
              "      <td>LY</td>\n",
              "      <td>@AboryPro @lyranoo85 رانيا عقليتك متخلفة. اولا...</td>\n",
              "    </tr>\n",
              "    <tr>\n",
              "      <th>15501</th>\n",
              "      <td>1035481122921164800</td>\n",
              "      <td>LY</td>\n",
              "      <td>@lyranoo85 شكلك متعقدة علشان الراجل لي تحبيه ا...</td>\n",
              "    </tr>\n",
              "  </tbody>\n",
              "</table>\n",
              "</div>\n",
              "      <button class=\"colab-df-convert\" onclick=\"convertToInteractive('df-f29d304d-0ece-4fc3-b260-672648727212')\"\n",
              "              title=\"Convert this dataframe to an interactive table.\"\n",
              "              style=\"display:none;\">\n",
              "        \n",
              "  <svg xmlns=\"http://www.w3.org/2000/svg\" height=\"24px\"viewBox=\"0 0 24 24\"\n",
              "       width=\"24px\">\n",
              "    <path d=\"M0 0h24v24H0V0z\" fill=\"none\"/>\n",
              "    <path d=\"M18.56 5.44l.94 2.06.94-2.06 2.06-.94-2.06-.94-.94-2.06-.94 2.06-2.06.94zm-11 1L8.5 8.5l.94-2.06 2.06-.94-2.06-.94L8.5 2.5l-.94 2.06-2.06.94zm10 10l.94 2.06.94-2.06 2.06-.94-2.06-.94-.94-2.06-.94 2.06-2.06.94z\"/><path d=\"M17.41 7.96l-1.37-1.37c-.4-.4-.92-.59-1.43-.59-.52 0-1.04.2-1.43.59L10.3 9.45l-7.72 7.72c-.78.78-.78 2.05 0 2.83L4 21.41c.39.39.9.59 1.41.59.51 0 1.02-.2 1.41-.59l7.78-7.78 2.81-2.81c.8-.78.8-2.07 0-2.86zM5.41 20L4 18.59l7.72-7.72 1.47 1.35L5.41 20z\"/>\n",
              "  </svg>\n",
              "      </button>\n",
              "      \n",
              "  <style>\n",
              "    .colab-df-container {\n",
              "      display:flex;\n",
              "      flex-wrap:wrap;\n",
              "      gap: 12px;\n",
              "    }\n",
              "\n",
              "    .colab-df-convert {\n",
              "      background-color: #E8F0FE;\n",
              "      border: none;\n",
              "      border-radius: 50%;\n",
              "      cursor: pointer;\n",
              "      display: none;\n",
              "      fill: #1967D2;\n",
              "      height: 32px;\n",
              "      padding: 0 0 0 0;\n",
              "      width: 32px;\n",
              "    }\n",
              "\n",
              "    .colab-df-convert:hover {\n",
              "      background-color: #E2EBFA;\n",
              "      box-shadow: 0px 1px 2px rgba(60, 64, 67, 0.3), 0px 1px 3px 1px rgba(60, 64, 67, 0.15);\n",
              "      fill: #174EA6;\n",
              "    }\n",
              "\n",
              "    [theme=dark] .colab-df-convert {\n",
              "      background-color: #3B4455;\n",
              "      fill: #D2E3FC;\n",
              "    }\n",
              "\n",
              "    [theme=dark] .colab-df-convert:hover {\n",
              "      background-color: #434B5C;\n",
              "      box-shadow: 0px 1px 3px 1px rgba(0, 0, 0, 0.15);\n",
              "      filter: drop-shadow(0px 1px 2px rgba(0, 0, 0, 0.3));\n",
              "      fill: #FFFFFF;\n",
              "    }\n",
              "  </style>\n",
              "\n",
              "      <script>\n",
              "        const buttonEl =\n",
              "          document.querySelector('#df-f29d304d-0ece-4fc3-b260-672648727212 button.colab-df-convert');\n",
              "        buttonEl.style.display =\n",
              "          google.colab.kernel.accessAllowed ? 'block' : 'none';\n",
              "\n",
              "        async function convertToInteractive(key) {\n",
              "          const element = document.querySelector('#df-f29d304d-0ece-4fc3-b260-672648727212');\n",
              "          const dataTable =\n",
              "            await google.colab.kernel.invokeFunction('convertToInteractive',\n",
              "                                                     [key], {});\n",
              "          if (!dataTable) return;\n",
              "\n",
              "          const docLinkHtml = 'Like what you see? Visit the ' +\n",
              "            '<a target=\"_blank\" href=https://colab.research.google.com/notebooks/data_table.ipynb>data table notebook</a>'\n",
              "            + ' to learn more about interactive tables.';\n",
              "          element.innerHTML = '';\n",
              "          dataTable['output_type'] = 'display_data';\n",
              "          await google.colab.output.renderOutput(dataTable, element);\n",
              "          const docLink = document.createElement('div');\n",
              "          docLink.innerHTML = docLinkHtml;\n",
              "          element.appendChild(docLink);\n",
              "        }\n",
              "      </script>\n",
              "    </div>\n",
              "  </div>\n",
              "  "
            ]
          },
          "metadata": {},
          "execution_count": 88
        }
      ]
    },
    {
      "cell_type": "code",
      "source": [
        "import nltk \n",
        "from nltk.corpus import stopwords"
      ],
      "metadata": {
        "id": "0XfOdm1Bogyp"
      },
      "execution_count": 89,
      "outputs": []
    },
    {
      "cell_type": "code",
      "source": [
        "nltk.download('stopwords')\n",
        "stop=stopwords.words('arabic')\n",
        "\n",
        "filtered_df['tweets'] = filtered_df['tweets'].apply(lambda x:\" \".join(x for x in x.split() if x not in stop))\n",
        "filtered_df.head()"
      ],
      "metadata": {
        "colab": {
          "base_uri": "https://localhost:8080/",
          "height": 345
        },
        "id": "nTd1pJMHdGpQ",
        "outputId": "d77a4f9d-7ff8-4fae-8ec3-db994fb09c2f"
      },
      "execution_count": 90,
      "outputs": [
        {
          "output_type": "stream",
          "name": "stderr",
          "text": [
            "[nltk_data] Downloading package stopwords to /root/nltk_data...\n",
            "[nltk_data]   Package stopwords is already up-to-date!\n",
            "<ipython-input-90-392fa63477a8>:4: SettingWithCopyWarning: \n",
            "A value is trying to be set on a copy of a slice from a DataFrame.\n",
            "Try using .loc[row_indexer,col_indexer] = value instead\n",
            "\n",
            "See the caveats in the documentation: https://pandas.pydata.org/pandas-docs/stable/user_guide/indexing.html#returning-a-view-versus-a-copy\n",
            "  filtered_df['tweets'] = filtered_df['tweets'].apply(lambda x:\" \".join(x for x in x.split() if x not in stop))\n"
          ]
        },
        {
          "output_type": "execute_result",
          "data": {
            "text/plain": [
              "                        id dialect  \\\n",
              "15497  1009754958479151232      LY   \n",
              "15498  1009794751548313600      LY   \n",
              "15499  1019989115490787200      LY   \n",
              "15500  1035479791758135168      LY   \n",
              "15501  1035481122921164800      LY   \n",
              "\n",
              "                                                  tweets  \n",
              "15497  @toha_Altomy @gy_yah قليلين ادب ومنافقين. اخته...  \n",
              "15498  @AlmFaisal 😂😂 الليبيين متقلبين!!! بالنسبة ليا ...  \n",
              "15499  @smsm071990 @ALMOGRBE 20 تانيه شاب ليبي بيرتاح...  \n",
              "15500  @AboryPro @lyranoo85 رانيا عقليتك متخلفة. اولا...  \n",
              "15501  @lyranoo85 شكلك متعقدة علشان الراجل تحبيه ازوج...  "
            ],
            "text/html": [
              "\n",
              "  <div id=\"df-288c7e83-9001-4287-86ac-00ffbc2b9047\">\n",
              "    <div class=\"colab-df-container\">\n",
              "      <div>\n",
              "<style scoped>\n",
              "    .dataframe tbody tr th:only-of-type {\n",
              "        vertical-align: middle;\n",
              "    }\n",
              "\n",
              "    .dataframe tbody tr th {\n",
              "        vertical-align: top;\n",
              "    }\n",
              "\n",
              "    .dataframe thead th {\n",
              "        text-align: right;\n",
              "    }\n",
              "</style>\n",
              "<table border=\"1\" class=\"dataframe\">\n",
              "  <thead>\n",
              "    <tr style=\"text-align: right;\">\n",
              "      <th></th>\n",
              "      <th>id</th>\n",
              "      <th>dialect</th>\n",
              "      <th>tweets</th>\n",
              "    </tr>\n",
              "  </thead>\n",
              "  <tbody>\n",
              "    <tr>\n",
              "      <th>15497</th>\n",
              "      <td>1009754958479151232</td>\n",
              "      <td>LY</td>\n",
              "      <td>@toha_Altomy @gy_yah قليلين ادب ومنافقين. اخته...</td>\n",
              "    </tr>\n",
              "    <tr>\n",
              "      <th>15498</th>\n",
              "      <td>1009794751548313600</td>\n",
              "      <td>LY</td>\n",
              "      <td>@AlmFaisal 😂😂 الليبيين متقلبين!!! بالنسبة ليا ...</td>\n",
              "    </tr>\n",
              "    <tr>\n",
              "      <th>15499</th>\n",
              "      <td>1019989115490787200</td>\n",
              "      <td>LY</td>\n",
              "      <td>@smsm071990 @ALMOGRBE 20 تانيه شاب ليبي بيرتاح...</td>\n",
              "    </tr>\n",
              "    <tr>\n",
              "      <th>15500</th>\n",
              "      <td>1035479791758135168</td>\n",
              "      <td>LY</td>\n",
              "      <td>@AboryPro @lyranoo85 رانيا عقليتك متخلفة. اولا...</td>\n",
              "    </tr>\n",
              "    <tr>\n",
              "      <th>15501</th>\n",
              "      <td>1035481122921164800</td>\n",
              "      <td>LY</td>\n",
              "      <td>@lyranoo85 شكلك متعقدة علشان الراجل تحبيه ازوج...</td>\n",
              "    </tr>\n",
              "  </tbody>\n",
              "</table>\n",
              "</div>\n",
              "      <button class=\"colab-df-convert\" onclick=\"convertToInteractive('df-288c7e83-9001-4287-86ac-00ffbc2b9047')\"\n",
              "              title=\"Convert this dataframe to an interactive table.\"\n",
              "              style=\"display:none;\">\n",
              "        \n",
              "  <svg xmlns=\"http://www.w3.org/2000/svg\" height=\"24px\"viewBox=\"0 0 24 24\"\n",
              "       width=\"24px\">\n",
              "    <path d=\"M0 0h24v24H0V0z\" fill=\"none\"/>\n",
              "    <path d=\"M18.56 5.44l.94 2.06.94-2.06 2.06-.94-2.06-.94-.94-2.06-.94 2.06-2.06.94zm-11 1L8.5 8.5l.94-2.06 2.06-.94-2.06-.94L8.5 2.5l-.94 2.06-2.06.94zm10 10l.94 2.06.94-2.06 2.06-.94-2.06-.94-.94-2.06-.94 2.06-2.06.94z\"/><path d=\"M17.41 7.96l-1.37-1.37c-.4-.4-.92-.59-1.43-.59-.52 0-1.04.2-1.43.59L10.3 9.45l-7.72 7.72c-.78.78-.78 2.05 0 2.83L4 21.41c.39.39.9.59 1.41.59.51 0 1.02-.2 1.41-.59l7.78-7.78 2.81-2.81c.8-.78.8-2.07 0-2.86zM5.41 20L4 18.59l7.72-7.72 1.47 1.35L5.41 20z\"/>\n",
              "  </svg>\n",
              "      </button>\n",
              "      \n",
              "  <style>\n",
              "    .colab-df-container {\n",
              "      display:flex;\n",
              "      flex-wrap:wrap;\n",
              "      gap: 12px;\n",
              "    }\n",
              "\n",
              "    .colab-df-convert {\n",
              "      background-color: #E8F0FE;\n",
              "      border: none;\n",
              "      border-radius: 50%;\n",
              "      cursor: pointer;\n",
              "      display: none;\n",
              "      fill: #1967D2;\n",
              "      height: 32px;\n",
              "      padding: 0 0 0 0;\n",
              "      width: 32px;\n",
              "    }\n",
              "\n",
              "    .colab-df-convert:hover {\n",
              "      background-color: #E2EBFA;\n",
              "      box-shadow: 0px 1px 2px rgba(60, 64, 67, 0.3), 0px 1px 3px 1px rgba(60, 64, 67, 0.15);\n",
              "      fill: #174EA6;\n",
              "    }\n",
              "\n",
              "    [theme=dark] .colab-df-convert {\n",
              "      background-color: #3B4455;\n",
              "      fill: #D2E3FC;\n",
              "    }\n",
              "\n",
              "    [theme=dark] .colab-df-convert:hover {\n",
              "      background-color: #434B5C;\n",
              "      box-shadow: 0px 1px 3px 1px rgba(0, 0, 0, 0.15);\n",
              "      filter: drop-shadow(0px 1px 2px rgba(0, 0, 0, 0.3));\n",
              "      fill: #FFFFFF;\n",
              "    }\n",
              "  </style>\n",
              "\n",
              "      <script>\n",
              "        const buttonEl =\n",
              "          document.querySelector('#df-288c7e83-9001-4287-86ac-00ffbc2b9047 button.colab-df-convert');\n",
              "        buttonEl.style.display =\n",
              "          google.colab.kernel.accessAllowed ? 'block' : 'none';\n",
              "\n",
              "        async function convertToInteractive(key) {\n",
              "          const element = document.querySelector('#df-288c7e83-9001-4287-86ac-00ffbc2b9047');\n",
              "          const dataTable =\n",
              "            await google.colab.kernel.invokeFunction('convertToInteractive',\n",
              "                                                     [key], {});\n",
              "          if (!dataTable) return;\n",
              "\n",
              "          const docLinkHtml = 'Like what you see? Visit the ' +\n",
              "            '<a target=\"_blank\" href=https://colab.research.google.com/notebooks/data_table.ipynb>data table notebook</a>'\n",
              "            + ' to learn more about interactive tables.';\n",
              "          element.innerHTML = '';\n",
              "          dataTable['output_type'] = 'display_data';\n",
              "          await google.colab.output.renderOutput(dataTable, element);\n",
              "          const docLink = document.createElement('div');\n",
              "          docLink.innerHTML = docLinkHtml;\n",
              "          element.appendChild(docLink);\n",
              "        }\n",
              "      </script>\n",
              "    </div>\n",
              "  </div>\n",
              "  "
            ]
          },
          "metadata": {},
          "execution_count": 90
        }
      ]
    },
    {
      "cell_type": "code",
      "source": [
        "from nltk.corpus import wordnet\n",
        "from nltk.stem import WordNetLemmatizer\n",
        "nltk.download('wordnet')\n",
        "\n",
        "lemmatizer = WordNetLemmatizer()\n",
        "filtered_df['tweets'] = filtered_df['tweets'].apply(lambda x: ' '.join([lemmatizer.lemmatize(word, pos=wordnet.VERB) for word in x.split()]))"
      ],
      "metadata": {
        "colab": {
          "base_uri": "https://localhost:8080/"
        },
        "id": "2JJZoOoqnNJG",
        "outputId": "7eaef0ed-ad09-42f3-99d9-204e3d996181"
      },
      "execution_count": 91,
      "outputs": [
        {
          "output_type": "stream",
          "name": "stderr",
          "text": [
            "[nltk_data] Downloading package wordnet to /root/nltk_data...\n",
            "[nltk_data]   Package wordnet is already up-to-date!\n",
            "<ipython-input-91-99d7a08d6300>:6: SettingWithCopyWarning: \n",
            "A value is trying to be set on a copy of a slice from a DataFrame.\n",
            "Try using .loc[row_indexer,col_indexer] = value instead\n",
            "\n",
            "See the caveats in the documentation: https://pandas.pydata.org/pandas-docs/stable/user_guide/indexing.html#returning-a-view-versus-a-copy\n",
            "  filtered_df['tweets'] = filtered_df['tweets'].apply(lambda x: ' '.join([lemmatizer.lemmatize(word, pos=wordnet.VERB) for word in x.split()]))\n"
          ]
        }
      ]
    },
    {
      "cell_type": "code",
      "source": [
        "from imblearn.over_sampling import RandomOverSampler\n",
        "\n",
        "ros = RandomOverSampler(random_state=42)\n",
        "X_resampled, y_resampled = ros.fit_resample(filtered_df.drop('dialect', axis=1), filtered_df['dialect'])\n",
        "filtered_df = pd.concat([X_resampled, y_resampled], axis=1)"
      ],
      "metadata": {
        "id": "ihTU8jnfDhUI"
      },
      "execution_count": 92,
      "outputs": []
    },
    {
      "cell_type": "code",
      "source": [
        "# Load data\n",
        "features = filtered_df.tweets.values\n",
        "labels = pd.get_dummies(filtered_df['dialect']).values"
      ],
      "metadata": {
        "id": "oHjhhJe02RHq"
      },
      "execution_count": 93,
      "outputs": []
    },
    {
      "cell_type": "code",
      "source": [
        "vocab_size = 20000\n",
        "max_length= 200\n",
        "tokenizer = Tokenizer(num_words=vocab_size,filters='!\"#$%&()*+,-./:;<=>?@[\\]^_`{|}~', lower=False)\n",
        "tokenizer.fit_on_texts(features)\n",
        "X = tokenizer.texts_to_sequences(features)"
      ],
      "metadata": {
        "id": "cjTuEsm22TBh"
      },
      "execution_count": 94,
      "outputs": []
    },
    {
      "cell_type": "code",
      "source": [
        "import nltk\n",
        "from collections import Counter\n",
        "nltk.download('stopwords')\n",
        "from nltk.corpus import stopwords\n",
        "\n",
        "# use the stopwords\n",
        "stop_words = set(stopwords.words('arabic'))"
      ],
      "metadata": {
        "colab": {
          "base_uri": "https://localhost:8080/"
        },
        "id": "_n7cvg2R-m3y",
        "outputId": "37637909-4f3f-4407-ac64-d98702469b56"
      },
      "execution_count": 95,
      "outputs": [
        {
          "output_type": "stream",
          "name": "stderr",
          "text": [
            "[nltk_data] Downloading package stopwords to /root/nltk_data...\n",
            "[nltk_data]   Package stopwords is already up-to-date!\n"
          ]
        }
      ]
    },
    {
      "cell_type": "code",
      "source": [
        "all_words = []\n",
        "for tokens in X:\n",
        "    all_words.extend(tokens)\n",
        "\n",
        "stop_words = set(stopwords.words('arabic'))\n",
        "all_words = [word for word in all_words if word not in stop_words]\n",
        "\n",
        "word_counts = Counter(all_words)\n",
        "most_common_words = [word for word, count in word_counts.most_common(500)]\n",
        "\n",
        "def remove_common_words(tokens):\n",
        "  new_tokens = [token for token in tokens if token not in most_common_words]\n",
        "  return new_tokens\n",
        "X = remove_common_words(X)\n",
        "X = pad_sequences(X, maxlen=max_length)"
      ],
      "metadata": {
        "id": "STO_xtVt3O9e"
      },
      "execution_count": 96,
      "outputs": []
    },
    {
      "cell_type": "code",
      "source": [
        "# Split data into training, validation, and test sets\n",
        "X_train, X_test, y_train, y_test = train_test_split(X, labels, test_size=0.1, random_state=42, shuffle=True)\n",
        "X_train, X_val, y_train, y_val = train_test_split(X_train, y_train, test_size=0.1, random_state=42, shuffle=True)"
      ],
      "metadata": {
        "id": "__QvQKel3PWk"
      },
      "execution_count": 97,
      "outputs": []
    },
    {
      "cell_type": "code",
      "source": [
        "# Convert data to PyTorch tensors\n",
        "X_train_, y_train_ = torch.tensor(X_train), torch.tensor(y_train)\n",
        "X_val, y_val = torch.tensor(X_val), torch.tensor(y_val)\n",
        "X_test, y_test = torch.tensor(X_test), torch.tensor(y_test)"
      ],
      "metadata": {
        "id": "Uwjl3zya3U76"
      },
      "execution_count": 98,
      "outputs": []
    },
    {
      "cell_type": "code",
      "source": [
        "class DialectDataset(Dataset):\n",
        "    def __init__(self, X, y):\n",
        "        self.X = X\n",
        "        self.y = y\n",
        "        \n",
        "    def __len__(self):\n",
        "        return len(self.X)\n",
        "    \n",
        "    def __getitem__(self, idx):\n",
        "        return self.X[idx], self.y[idx]"
      ],
      "metadata": {
        "id": "9vqusbmC3dF8"
      },
      "execution_count": 99,
      "outputs": []
    },
    {
      "cell_type": "code",
      "source": [
        "# Create dataloaders for training, validation, and test sets\n",
        "train_dataset = DialectDataset(X_train_, y_train_ )\n",
        "val_dataset = DialectDataset(X_val, y_val)\n",
        "test_dataset = DialectDataset(X_test, y_test)"
      ],
      "metadata": {
        "id": "d_Z3U-h_3gdc"
      },
      "execution_count": 100,
      "outputs": []
    },
    {
      "cell_type": "code",
      "source": [
        "batch_size = 64\n",
        "train_dataloader = DataLoader(train_dataset, batch_size=batch_size, shuffle=True)\n",
        "val_dataloader = DataLoader(val_dataset, batch_size=batch_size)\n",
        "test_dataloader = DataLoader(test_dataset, batch_size=batch_size)\n"
      ],
      "metadata": {
        "id": "Zp_pdmFd3mvi"
      },
      "execution_count": 101,
      "outputs": []
    },
    {
      "cell_type": "code",
      "source": [
        "import torch\n",
        "import torch.nn as nn\n",
        "import torch.nn.functional as F\n",
        "import torch.optim as optim\n",
        "from torch.utils.data import DataLoader, Dataset\n",
        "from sklearn.metrics import accuracy_score\n",
        "from tqdm import tqdm\n",
        "import numpy as np\n",
        "\n",
        "vocab_size = 20000\n",
        "embedding_dim = 100\n",
        "hidden_dim = 128\n",
        "output_dim = 4\n",
        "num_layers = 2\n",
        "bidirectional = True\n",
        "lr = 0.01\n",
        "batch_size = 64\n",
        "num_epochs = 10\n",
        "\n",
        "class BiLSTMAttention(nn.Module):\n",
        "    def __init__(self, vocab_size, embedding_dim, hidden_dim, output_dim, num_layers):\n",
        "        super(BiLSTMAttention, self).__init__()\n",
        "        self.embedding = nn.Embedding(vocab_size, embedding_dim)\n",
        "        self.lstm = nn.LSTM(embedding_dim, hidden_dim, num_layers=num_layers, bidirectional=True, dropout=0.5, batch_first=True)\n",
        "        self.fc = nn.Linear(hidden_dim * 2, output_dim)\n",
        "        self.dropout = nn.Dropout(0.5)\n",
        "        self.attention = SelfAttention(hidden_dim * 2)\n",
        "        \n",
        "    def forward(self, x):\n",
        "        embedded = self.embedding(x)\n",
        "        lstm_out, _ = self.lstm(embedded)\n",
        "        lstm_out = self.dropout(lstm_out)\n",
        "        attention_out, attention_weights = self.attention(lstm_out)\n",
        "        fc_out = self.fc(attention_out)\n",
        "        return fc_out, attention_weights\n",
        "\n",
        "class SelfAttention(nn.Module):\n",
        "    def __init__(self, hidden_dim):\n",
        "        super(SelfAttention, self).__init__()\n",
        "        self.projection = nn.Sequential(\n",
        "            nn.Linear(hidden_dim, hidden_dim),\n",
        "            nn.Tanh(),\n",
        "            nn.Linear(hidden_dim, 1)\n",
        "        )\n",
        "        \n",
        "    def forward(self, encoder_outputs):\n",
        "        energy = self.projection(encoder_outputs)\n",
        "        weights = F.softmax(energy.squeeze(-1), dim=1)\n",
        "        outputs = (encoder_outputs * weights.unsqueeze(-1)).sum(dim=1)\n",
        "        return outputs, weights"
      ],
      "metadata": {
        "id": "VEIxcRNd3rfX"
      },
      "execution_count": 102,
      "outputs": []
    },
    {
      "cell_type": "code",
      "source": [
        "device = torch.device(\"cuda\" if torch.cuda.is_available() else \"cpu\")\n",
        "model = BiLSTMAttention(vocab_size, embedding_dim, hidden_dim, output_dim, num_layers).to(device)\n",
        "optimizer = optim.Adam(model.parameters(),lr=0.01)\n",
        "criterion = nn.BCEWithLogitsLoss()\n",
        "\n",
        "for epoch in tqdm(range(num_epochs)):\n",
        "     model.train()\n",
        "     running_loss = 0.0\n",
        "     with torch.cuda.device(0):\n",
        "       for batch in train_dataloader:\n",
        "         inputs, labels = batch[0].to(device), batch[1].to(device)\n",
        "         optimizer.zero_grad()\n",
        "         labels = labels.float()\n",
        "         outputs, _ = model(inputs)\n",
        "         loss = criterion(outputs, labels)\n",
        "         loss.backward()\n",
        "         optimizer.step()\n",
        "         running_loss += loss.item()\n",
        "         preds = torch.sigmoid(outputs) > 0.5\n",
        "         acc = accuracy_score(labels.cpu().detach().numpy(), preds.cpu().detach().numpy())\n",
        "         #print('Train Accuracy: {:.4f}'.format(acc))\n",
        "     epoch_loss = running_loss / (len(train_dataloader))\n",
        "\n",
        "     val_loss = 0.0\n",
        "     model.eval()\n",
        "     with torch.no_grad():\n",
        "         for batch in val_dataloader:\n",
        "             inputs, labels = batch[0].to(device), batch[1].to(device)\n",
        "             labels = labels.float()\n",
        "             outputs, _= model(inputs)\n",
        "             loss = criterion(outputs, labels)\n",
        "             val_loss += loss.item()\n",
        "             #val_preds = torch.sigmoid(outputs) > 0.5\n",
        "             #val_acc = accuracy_score(labels.cpu().detach().numpy(), val_preds.cpu().detach().numpy())\n",
        "             #print('Val Accuracy: {:.4f}'.format(val_acc))\n",
        "     val_loss = val_loss / (len(val_dataloader))\n",
        "     \n",
        "     print(\" epoch loss :\", epoch_loss , \"| val loss :\", val_loss)\n",
        "     #print('Train Accuracy: {:.4f}'.format(acc))\n",
        "     #print('Val Accuracy: {:.4f}'.format(val_acc))\n",
        "\n",
        "print(\"Training stopped after epoch\", epoch)\n",
        "        "
      ],
      "metadata": {
        "colab": {
          "base_uri": "https://localhost:8080/"
        },
        "id": "eE9Y_aBf3sDm",
        "outputId": "b2f65e12-c585-4b93-e681-c357a08418cc"
      },
      "execution_count": 103,
      "outputs": [
        {
          "output_type": "stream",
          "name": "stderr",
          "text": [
            " 10%|█         | 1/10 [00:59<08:51, 59.10s/it]"
          ]
        },
        {
          "output_type": "stream",
          "name": "stdout",
          "text": [
            " epoch loss : 0.24614191560872964 | val loss : 0.13877790656338618\n"
          ]
        },
        {
          "output_type": "stream",
          "name": "stderr",
          "text": [
            "\r 20%|██        | 2/10 [01:58<07:54, 59.29s/it]"
          ]
        },
        {
          "output_type": "stream",
          "name": "stdout",
          "text": [
            " epoch loss : 0.1133856796568816 | val loss : 0.1217925417987467\n"
          ]
        },
        {
          "output_type": "stream",
          "name": "stderr",
          "text": [
            "\r 30%|███       | 3/10 [02:58<06:56, 59.49s/it]"
          ]
        },
        {
          "output_type": "stream",
          "name": "stdout",
          "text": [
            " epoch loss : 0.09198627425801187 | val loss : 0.12003275871421527\n"
          ]
        },
        {
          "output_type": "stream",
          "name": "stderr",
          "text": [
            "\r 40%|████      | 4/10 [03:57<05:56, 59.37s/it]"
          ]
        },
        {
          "output_type": "stream",
          "name": "stdout",
          "text": [
            " epoch loss : 0.08775186164151409 | val loss : 0.11622095231002974\n"
          ]
        },
        {
          "output_type": "stream",
          "name": "stderr",
          "text": [
            "\r 50%|█████     | 5/10 [04:56<04:56, 59.30s/it]"
          ]
        },
        {
          "output_type": "stream",
          "name": "stdout",
          "text": [
            " epoch loss : 0.07947247191705213 | val loss : 0.124032119171495\n"
          ]
        },
        {
          "output_type": "stream",
          "name": "stderr",
          "text": [
            "\r 60%|██████    | 6/10 [05:55<03:57, 59.29s/it]"
          ]
        },
        {
          "output_type": "stream",
          "name": "stdout",
          "text": [
            " epoch loss : 0.08024787366741994 | val loss : 0.12944020311013588\n"
          ]
        },
        {
          "output_type": "stream",
          "name": "stderr",
          "text": [
            "\r 70%|███████   | 7/10 [06:56<02:58, 59.65s/it]"
          ]
        },
        {
          "output_type": "stream",
          "name": "stdout",
          "text": [
            " epoch loss : 0.07746873683552156 | val loss : 0.12278311543202805\n"
          ]
        },
        {
          "output_type": "stream",
          "name": "stderr",
          "text": [
            "\r 80%|████████  | 8/10 [07:55<01:59, 59.56s/it]"
          ]
        },
        {
          "output_type": "stream",
          "name": "stdout",
          "text": [
            " epoch loss : 0.0798455369351351 | val loss : 0.1306780785123266\n"
          ]
        },
        {
          "output_type": "stream",
          "name": "stderr",
          "text": [
            "\r 90%|█████████ | 9/10 [08:55<00:59, 59.51s/it]"
          ]
        },
        {
          "output_type": "stream",
          "name": "stdout",
          "text": [
            " epoch loss : 0.08112808818590235 | val loss : 0.13348489109137393\n"
          ]
        },
        {
          "output_type": "stream",
          "name": "stderr",
          "text": [
            "100%|██████████| 10/10 [09:54<00:00, 59.42s/it]"
          ]
        },
        {
          "output_type": "stream",
          "name": "stdout",
          "text": [
            " epoch loss : 0.08379676483760011 | val loss : 0.13338120003203743\n",
            "Training stopped after epoch 9\n"
          ]
        },
        {
          "output_type": "stream",
          "name": "stderr",
          "text": [
            "\n"
          ]
        }
      ]
    },
    {
      "cell_type": "code",
      "source": [
        "filtered_df['dialect'].value_counts()"
      ],
      "metadata": {
        "id": "ewHAui_yJJR7",
        "outputId": "8f349f5e-85e6-4908-9734-d7d63be07a40",
        "colab": {
          "base_uri": "https://localhost:8080/"
        }
      },
      "execution_count": 115,
      "outputs": [
        {
          "output_type": "execute_result",
          "data": {
            "text/plain": [
              "LY    36499\n",
              "TN    36499\n",
              "MA    36499\n",
              "DZ    36499\n",
              "Name: dialect, dtype: int64"
            ]
          },
          "metadata": {},
          "execution_count": 115
        }
      ]
    },
    {
      "cell_type": "code",
      "source": [
        "from sklearn.metrics import f1_score, precision_score, recall_score, confusion_matrix\n",
        "import matplotlib.pyplot as plt\n",
        "import seaborn as sns\n",
        "model.eval()\n",
        "y_true = []\n",
        "y_pred = []\n",
        "with torch.no_grad():\n",
        "    for batch in test_dataloader:\n",
        "        inputs, labels = batch[0].to(device), batch[1].to(device)\n",
        "        labels = labels.float()\n",
        "        outputs, _ = model(inputs)\n",
        "        preds = torch.sigmoid(outputs) > 0.5\n",
        "        y_true.extend(labels.cpu().detach().numpy())\n",
        "        y_pred.extend(preds.cpu().detach().numpy())\n",
        "\n",
        "\n",
        "test_acc = accuracy_score(y_true, y_pred)\n",
        "test_f1 = f1_score(y_true, y_pred, average='macro')\n",
        "test_pres = precision_score(y_true, y_pred, average='macro')\n",
        "test_recall = recall_score(y_true, y_pred, average='macro')\n",
        "y_true = np.argmax(y_true, axis=1)  # Convert to multiclass format\n",
        "y_pred = np.argmax(y_pred, axis=1)  # Convert to multiclass format\n",
        "test_confusion_matrix = confusion_matrix(y_true, y_pred, labels=[0, 1, 2, 3])\n",
        "print('Test Accuracy: {:.4f}'.format(test_acc))\n",
        "print('Test f1 score: {:.4f}'.format(test_f1))\n",
        "print('Test precision: {:.4f}'.format(test_pres))\n",
        "print('Test recall: {:.4f}'.format(test_recall))\n",
        "# Create confusion matrix plot\n",
        "sns.set(font_scale=1.2)\n",
        "fig, ax = plt.subplots(figsize=(8, 6))\n",
        "sns.heatmap(test_confusion_matrix, annot=True, fmt='d', cmap='Blues', cbar=False,\n",
        "            annot_kws={\"size\": 16}, linewidths=0.5, linecolor='black', ax=ax)\n",
        "ax.set_xlabel('Predicted Label', fontsize=14)\n",
        "ax.set_ylabel('True Label', fontsize=14)\n",
        "ax.set_xticklabels(['LY', 'TN', 'MA', 'DZ'], fontsize=12)\n",
        "ax.set_yticklabels(['LY', 'TN', 'MA', 'DZ'], fontsize=12)\n",
        "plt.title('Confusion Matrix', fontsize=16)\n",
        "plt.show()"
      ],
      "metadata": {
        "colab": {
          "base_uri": "https://localhost:8080/",
          "height": 648
        },
        "id": "3Iogvg4NHukE",
        "outputId": "ca5d4915-a96a-4c4f-9c8a-f39038e1c3e5"
      },
      "execution_count": 117,
      "outputs": [
        {
          "output_type": "stream",
          "name": "stdout",
          "text": [
            "Test Accuracy: 0.8851\n",
            "Test f1 score: 0.9033\n",
            "Test precision: 0.9187\n",
            "Test recall: 0.8887\n"
          ]
        },
        {
          "output_type": "display_data",
          "data": {
            "text/plain": [
              "<Figure size 800x600 with 1 Axes>"
            ],
            "image/png": "[encoded data removed]"
          },
          "metadata": {}
        }
      ]
    },
    {
      "cell_type": "code",
      "source": [
        "# Set the model to evaluation mode\n",
        "model.eval()\n",
        "device = \"cuda\"\n",
        "# Tokenize the new complaint and pad the sequence\n",
        "#new_complaint = ['واش دير للعشى']\n",
        "#new_complaint  = [\"شوكران علا هاد \"]\n",
        "#new_complaint  = [\"نبي نروح للحوش\"]\n",
        "new_complaint  = [\"فرحان و نتشرف الي انا من اقلية الشعب الي عمري ما صدقت كذبة الثورة و الديمقراطية و ما عداها عليا حتى سياسي ملي حكمو من 2011 و ما تحكموش في تفكيري باجات فيسبوك و اعلاميين مرتزقة و سبر اراء غالط\"]\n",
        "seq = tokenizer.texts_to_sequences(new_complaint)\n",
        "padded = pad_sequences(seq, maxlen=max_length)\n",
        "\n",
        "# Convert the padded sequence to a PyTorch tensor and move it to the device (e.g., GPU) if available\n",
        "padded_tensor = torch.LongTensor(padded).to(device)\n",
        "\n",
        "# Compute the model's prediction for the padded sequence\n",
        "with torch.no_grad():\n",
        "    pred = model(padded_tensor)\n",
        "\n",
        "# Move the prediction back to the CPU and convert to a numpy array\n",
        "#pred = pred.cpu().numpy()\n",
        "\n",
        "# Map the prediction to a class label using the CLASS_DICT{'DZ': 0, 'LY': 1, 'MA': 2, 'TN': 3}\n",
        "CLASS_DICT = {0: \"DZ\",1: \"LY\", 2: \"MA\",3: \"TN\"}\n",
        "class_label = CLASS_DICT[np.argmax(pred[0].cpu().numpy(), axis=1)[0]]\n",
        "\n",
        "# Print the prediction and the predicted class label\n",
        "print(class_label)"
      ],
      "metadata": {
        "id": "7XTwm4UJGUtH",
        "outputId": "3e7c35cd-d0e6-4dc6-d5f6-ef1a0437c613",
        "colab": {
          "base_uri": "https://localhost:8080/"
        }
      },
      "execution_count": 118,
      "outputs": [
        {
          "output_type": "stream",
          "name": "stdout",
          "text": [
            "TN\n"
          ]
        }
      ]
    },
    {
      "cell_type": "code",
      "source": [
        "torch.save(model.state_dict(), 'model3.pth')"
      ],
      "metadata": {
        "id": "blA9EW05Ct5K"
      },
      "execution_count": 106,
      "outputs": []
    }
  ]
}